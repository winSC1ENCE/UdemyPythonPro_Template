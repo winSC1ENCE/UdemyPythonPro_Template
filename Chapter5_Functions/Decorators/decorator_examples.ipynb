{
 "cells": [
  {
   "cell_type": "markdown",
   "metadata": {},
   "source": [
    "Problem: The function name, its docstring, and parameter list of 'fn' are hidden by the wrapper function.\n",
    "\n",
    "Solution: The functools.wraps decorator, copies the lost metadata from the undecorated function to the decorated closure."
   ]
  },
  {
   "cell_type": "markdown",
   "metadata": {},
   "source": [
    "### DEBUGGER"
   ]
  },
  {
   "cell_type": "code",
   "execution_count": 15,
   "metadata": {},
   "outputs": [],
   "source": [
    "from functools import wraps\n",
    "\n",
    "def debug(fn):\n",
    "    @wraps(fn)\n",
    "    def debugger(*args, **kwargs):\n",
    "        args_values_types = [(a, type(a)) for a in args]\n",
    "        kwargs_values_types = [(k, v, type(v)) for k, v in kwargs.items()]\n",
    "        print(f\"Args: {args_values_types}\")\n",
    "        print(f\"Kwargs: {kwargs_values_types}\")\n",
    "        print(f\"Function {fn.__name__} called\")\n",
    "        fn_result = fn(*args, **kwargs)\n",
    "        print(f\"Function {fn.__name__} returns: {fn_result}\")\n",
    "        return fn_result\n",
    "    return debugger"
   ]
  },
  {
   "cell_type": "code",
   "execution_count": 16,
   "metadata": {},
   "outputs": [],
   "source": [
    "@debug\n",
    "def do_something(a, b, c=None):\n",
    "    \"\"\"Do something.\n",
    "    \"\"\"\n",
    "    return a + b if c else 0\n",
    "\n",
    "@debug\n",
    "def do_something2(a, b, c=None):\n",
    "    return a - b if c else 0\n",
    "\n",
    "@debug\n",
    "def do_something3(a, b, c=None):\n",
    "    return a * b if c else 0\n",
    "\n",
    "@debug\n",
    "def do_something4(a, b, c=None):\n",
    "    return a / b if c else 0"
   ]
  },
  {
   "cell_type": "code",
   "execution_count": 17,
   "metadata": {},
   "outputs": [
    {
     "name": "stdout",
     "output_type": "stream",
     "text": [
      "Args: [(10, <class 'int'>), (20, <class 'int'>)]\n",
      "Kwargs: [('c', 1, <class 'int'>)]\n",
      "Function do_something called\n",
      "Function do_something returns: 30\n"
     ]
    },
    {
     "data": {
      "text/plain": [
       "30"
      ]
     },
     "execution_count": 17,
     "metadata": {},
     "output_type": "execute_result"
    }
   ],
   "source": [
    "do_something(10, 20, c=1)"
   ]
  },
  {
   "cell_type": "code",
   "execution_count": 18,
   "metadata": {},
   "outputs": [
    {
     "name": "stdout",
     "output_type": "stream",
     "text": [
      "Args: [(10, <class 'int'>), (20, <class 'int'>)]\n",
      "Kwargs: [('c', 1, <class 'int'>)]\n",
      "Function do_something2 called\n",
      "Function do_something2 returns: -10\n"
     ]
    },
    {
     "data": {
      "text/plain": [
       "-10"
      ]
     },
     "execution_count": 18,
     "metadata": {},
     "output_type": "execute_result"
    }
   ],
   "source": [
    "do_something2(10, 20, c=1)"
   ]
  },
  {
   "cell_type": "code",
   "execution_count": 19,
   "metadata": {},
   "outputs": [
    {
     "name": "stdout",
     "output_type": "stream",
     "text": [
      "Args: [(10, <class 'int'>), (20, <class 'int'>)]\n",
      "Kwargs: [('c', 1, <class 'int'>)]\n",
      "Function do_something3 called\n",
      "Function do_something3 returns: 200\n"
     ]
    },
    {
     "data": {
      "text/plain": [
       "200"
      ]
     },
     "execution_count": 19,
     "metadata": {},
     "output_type": "execute_result"
    }
   ],
   "source": [
    "do_something3(10, 20, c=1)"
   ]
  },
  {
   "cell_type": "code",
   "execution_count": 20,
   "metadata": {},
   "outputs": [
    {
     "name": "stdout",
     "output_type": "stream",
     "text": [
      "Args: [(10, <class 'int'>), (20, <class 'int'>)]\n",
      "Kwargs: [('c', 1, <class 'int'>)]\n",
      "Function do_something4 called\n",
      "Function do_something4 returns: 0.5\n"
     ]
    },
    {
     "data": {
      "text/plain": [
       "0.5"
      ]
     },
     "execution_count": 20,
     "metadata": {},
     "output_type": "execute_result"
    }
   ],
   "source": [
    "do_something4(10, 20, c=1)"
   ]
  },
  {
   "cell_type": "markdown",
   "metadata": {},
   "source": [
    "#### TIMER"
   ]
  },
  {
   "cell_type": "code",
   "execution_count": 21,
   "metadata": {},
   "outputs": [],
   "source": [
    "import time\n",
    "\n",
    "def timing(fn):\n",
    "    @wraps(fn)\n",
    "    def timer(*args, **kwargs):\n",
    "        start_time = time.perf_counter()\n",
    "        fn_result = fn(*args, **kwargs)\n",
    "        end_time = time.perf_counter()\n",
    "        time_duration = end_time - start_time\n",
    "        print(f\"Function {fn.__name__} took: {time_duration} s\")\n",
    "        return fn_result\n",
    "    return timer"
   ]
  },
  {
   "cell_type": "code",
   "execution_count": 22,
   "metadata": {},
   "outputs": [],
   "source": [
    "@timing\n",
    "def do_something(a, b, c=None):\n",
    "    \"\"\"Do something.\n",
    "    \"\"\"\n",
    "    return a + b if c else 0"
   ]
  },
  {
   "cell_type": "code",
   "execution_count": 23,
   "metadata": {},
   "outputs": [
    {
     "name": "stdout",
     "output_type": "stream",
     "text": [
      "Function do_something took: 1.1000010999850929e-06 s\n"
     ]
    },
    {
     "data": {
      "text/plain": [
       "30"
      ]
     },
     "execution_count": 23,
     "metadata": {},
     "output_type": "execute_result"
    }
   ],
   "source": [
    "do_something(a=10, b=20, c=True)"
   ]
  },
  {
   "cell_type": "code",
   "execution_count": 24,
   "metadata": {},
   "outputs": [],
   "source": [
    "@timing\n",
    "def iterate(n):\n",
    "    val = 0\n",
    "    for i in range(n):\n",
    "        val += i\n",
    "    return val"
   ]
  },
  {
   "cell_type": "code",
   "execution_count": 25,
   "metadata": {},
   "outputs": [
    {
     "name": "stdout",
     "output_type": "stream",
     "text": [
      "Function iterate took: 0.037394799997855444 s\n"
     ]
    },
    {
     "data": {
      "text/plain": [
       "499999500000"
      ]
     },
     "execution_count": 25,
     "metadata": {},
     "output_type": "execute_result"
    }
   ],
   "source": [
    "iterate(1_000_000)"
   ]
  }
 ],
 "metadata": {
  "file_extension": ".py",
  "interpreter": {
   "hash": "ef4ce19910938c421491e84375c43d450a079a1a865d40a0bc82f335363ab876"
  },
  "kernelspec": {
   "display_name": "Python 3.10.4 ('pyUdemy')",
   "language": "python",
   "name": "python3"
  },
  "language_info": {
   "codemirror_mode": {
    "name": "ipython",
    "version": 3
   },
   "file_extension": ".py",
   "mimetype": "text/x-python",
   "name": "python",
   "nbconvert_exporter": "python",
   "pygments_lexer": "ipython3",
   "version": "3.10.4"
  },
  "mimetype": "text/x-python",
  "name": "python",
  "npconvert_exporter": "python",
  "orig_nbformat": 2,
  "pygments_lexer": "ipython3",
  "version": 3
 },
 "nbformat": 4,
 "nbformat_minor": 2
}
