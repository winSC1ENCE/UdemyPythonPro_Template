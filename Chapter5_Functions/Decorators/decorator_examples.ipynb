{
 "cells": [
  {
   "cell_type": "code",
   "execution_count": 83,
   "metadata": {},
   "outputs": [],
   "source": [
    "import time\n",
    "from functools import wraps"
   ]
  },
  {
   "cell_type": "markdown",
   "metadata": {},
   "source": [
    "Problem: The function name, its docstring, and parameter list of 'fn' are hidden by the wrapper function.\n",
    "\n",
    "Solution: The functools.wraps decorator, copies the lost metadata from the undecorated function to the decorated closure."
   ]
  },
  {
   "cell_type": "markdown",
   "metadata": {},
   "source": [
    "### DEBUGGER"
   ]
  },
  {
   "cell_type": "code",
   "execution_count": 84,
   "metadata": {},
   "outputs": [],
   "source": [
    "def debug(fn):\n",
    "    @wraps(fn)\n",
    "    def debugger(*args, **kwargs):\n",
    "        print(f\"Args: {args}\")\n",
    "        print(f\"Kwargs: {kwargs}\")\n",
    "        print(f\"Function {fn.__name__} called\")\n",
    "        fn_result = fn(*args, **kwargs)\n",
    "        print(f\"Function {fn.__name__} returns: {fn_result}\")\n",
    "        return fn_result\n",
    "    return debugger"
   ]
  },
  {
   "cell_type": "code",
   "execution_count": 85,
   "metadata": {},
   "outputs": [],
   "source": [
    "@debug\n",
    "def do_something(a, b, c=None):\n",
    "    return a + b if c else 0\n",
    "\n",
    "@debug\n",
    "def do_something2(a, b, c=None):\n",
    "    return a - b if c else 0"
   ]
  },
  {
   "cell_type": "code",
   "execution_count": 86,
   "metadata": {},
   "outputs": [
    {
     "name": "stdout",
     "output_type": "stream",
     "text": [
      "Args: (10, 20)\n",
      "Kwargs: {'c': 1}\n",
      "Function do_something called\n",
      "Function do_something returns: 30\n"
     ]
    },
    {
     "data": {
      "text/plain": [
       "30"
      ]
     },
     "execution_count": 86,
     "metadata": {},
     "output_type": "execute_result"
    }
   ],
   "source": [
    "do_something(10, 20, c=1)"
   ]
  },
  {
   "cell_type": "code",
   "execution_count": 87,
   "metadata": {},
   "outputs": [
    {
     "name": "stdout",
     "output_type": "stream",
     "text": [
      "Args: (44, 39)\n",
      "Kwargs: {'c': 2}\n",
      "Function do_something2 called\n",
      "Function do_something2 returns: 5\n"
     ]
    },
    {
     "data": {
      "text/plain": [
       "5"
      ]
     },
     "execution_count": 87,
     "metadata": {},
     "output_type": "execute_result"
    }
   ],
   "source": [
    "do_something2(44, 39, c=2)"
   ]
  },
  {
   "cell_type": "markdown",
   "metadata": {},
   "source": [
    "#### TIMER"
   ]
  },
  {
   "cell_type": "code",
   "execution_count": 88,
   "metadata": {},
   "outputs": [],
   "source": [
    "def timing(fn):\n",
    "    @wraps(fn)\n",
    "    def timer(*args, **kwargs):\n",
    "        start_time = time.perf_counter()\n",
    "        fn_result = fn(*args, **kwargs)\n",
    "        end_time = time.perf_counter()\n",
    "        time_duration = end_time - start_time\n",
    "        print(f\"Function {fn.__name__} took: {time_duration} s\")\n",
    "        return fn_result\n",
    "    return timer"
   ]
  },
  {
   "cell_type": "code",
   "execution_count": 89,
   "metadata": {},
   "outputs": [],
   "source": [
    "@timing\n",
    "def iterate(n):\n",
    "    val = 0\n",
    "    for i in range(n):\n",
    "        val += i\n",
    "    return val"
   ]
  },
  {
   "cell_type": "code",
   "execution_count": 90,
   "metadata": {},
   "outputs": [
    {
     "name": "stdout",
     "output_type": "stream",
     "text": [
      "Function iterate took: 0.03888520004693419 s\n"
     ]
    },
    {
     "data": {
      "text/plain": [
       "499999500000"
      ]
     },
     "execution_count": 90,
     "metadata": {},
     "output_type": "execute_result"
    }
   ],
   "source": [
    "iterate(1_000_000)"
   ]
  },
  {
   "cell_type": "code",
   "execution_count": 91,
   "metadata": {},
   "outputs": [],
   "source": [
    "def timing_extended(use_ns_timer=False):\n",
    "    if use_ns_timer:\n",
    "        time_fn = time.perf_counter_ns\n",
    "        time_scale = \"ns\"\n",
    "    else:\n",
    "        time_fn = time.perf_counter\n",
    "        time_scale = \"s\"\n",
    "\n",
    "    def timing(fn): # Decorator\n",
    "        @wraps(fn)\n",
    "        def timer(*args, **kwargs):\n",
    "            start_time = time_fn()\n",
    "            fn_result = fn(*args, **kwargs)\n",
    "            end_time = time_fn()\n",
    "            time_duration = end_time - start_time\n",
    "            print(f\"Function {fn.__name__} took: {time_duration} {time_scale}\")\n",
    "            return fn_result\n",
    "        return timer\n",
    "    return timing"
   ]
  },
  {
   "cell_type": "code",
   "execution_count": 92,
   "metadata": {},
   "outputs": [
    {
     "name": "stdout",
     "output_type": "stream",
     "text": [
      "Function iterate took: 36426000 ns\n"
     ]
    },
    {
     "data": {
      "text/plain": [
       "499999500000"
      ]
     },
     "execution_count": 92,
     "metadata": {},
     "output_type": "execute_result"
    }
   ],
   "source": [
    "@timing_extended(use_ns_timer=True)\n",
    "def iterate(n):\n",
    "    val = 0\n",
    "    for i in range(n):\n",
    "        val += i\n",
    "    return val\n",
    "\n",
    "iterate(1_000_000)"
   ]
  }
 ],
 "metadata": {
  "file_extension": ".py",
  "interpreter": {
   "hash": "ef4ce19910938c421491e84375c43d450a079a1a865d40a0bc82f335363ab876"
  },
  "kernelspec": {
   "display_name": "Python 3.10.4 ('pyUdemy')",
   "language": "python",
   "name": "python3"
  },
  "language_info": {
   "codemirror_mode": {
    "name": "ipython",
    "version": 3
   },
   "file_extension": ".py",
   "mimetype": "text/x-python",
   "name": "python",
   "nbconvert_exporter": "python",
   "pygments_lexer": "ipython3",
   "version": "3.10.4"
  },
  "mimetype": "text/x-python",
  "name": "python",
  "npconvert_exporter": "python",
  "orig_nbformat": 2,
  "pygments_lexer": "ipython3",
  "version": 3
 },
 "nbformat": 4,
 "nbformat_minor": 2
}
