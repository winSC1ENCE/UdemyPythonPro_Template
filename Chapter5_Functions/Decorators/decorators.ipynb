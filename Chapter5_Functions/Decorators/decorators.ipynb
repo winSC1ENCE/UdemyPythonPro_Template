{
 "cells": [
  {
   "cell_type": "code",
   "execution_count": 83,
   "metadata": {},
   "outputs": [],
   "source": [
    "import time\n",
    "from functools import wraps"
   ]
  },
  {
   "cell_type": "markdown",
   "metadata": {},
   "source": [
    "### Closure\n",
    "\n",
    "A closure is an inner function that has access to variables in the local scope of the outer function"
   ]
  },
  {
   "cell_type": "code",
   "execution_count": 84,
   "metadata": {},
   "outputs": [],
   "source": [
    "def outer_fn(message):\n",
    "    outer_message = \"Outer: \" + message\n",
    "    current_time = time.time()\n",
    "\n",
    "    def inner_fn():\n",
    "        print(\"Inner: '\" + outer_message + \"'\")\n",
    "        print(\"Current time: \", current_time)\n",
    "    return inner_fn()"
   ]
  },
  {
   "cell_type": "code",
   "execution_count": 85,
   "metadata": {},
   "outputs": [
    {
     "name": "stdout",
     "output_type": "stream",
     "text": [
      "Inner: 'Outer: Hello World!'\n",
      "Current time:  1654002669.017857\n"
     ]
    }
   ],
   "source": [
    "outer_fn(\"Hello World!\")"
   ]
  },
  {
   "cell_type": "markdown",
   "metadata": {},
   "source": [
    "### Decorators\n",
    "\n",
    "- wraps a function by another function\n",
    "- takes a function as an argument, returns a closure\n",
    "- the clousure runs the previous passed in function with the *args and **kwargs arguments"
   ]
  },
  {
   "cell_type": "code",
   "execution_count": 86,
   "metadata": {},
   "outputs": [],
   "source": [
    "def outer_fn(fn):\n",
    "    def inner_fn():\n",
    "        fn_result = fn()\n",
    "        return fn_result\n",
    "    return inner_fn"
   ]
  },
  {
   "cell_type": "code",
   "execution_count": 87,
   "metadata": {},
   "outputs": [],
   "source": [
    "def print_hello_world():\n",
    "    print(\"Hello World!\")"
   ]
  },
  {
   "cell_type": "code",
   "execution_count": 88,
   "metadata": {},
   "outputs": [],
   "source": [
    "decorated_print_hello_world = outer_fn(print_hello_world)"
   ]
  },
  {
   "cell_type": "code",
   "execution_count": 89,
   "metadata": {},
   "outputs": [
    {
     "name": "stdout",
     "output_type": "stream",
     "text": [
      "Hello World!\n"
     ]
    }
   ],
   "source": [
    "decorated_print_hello_world()"
   ]
  },
  {
   "cell_type": "code",
   "execution_count": 90,
   "metadata": {},
   "outputs": [],
   "source": [
    "def decorator(fn):\n",
    "    print(\"Start decorator function from: \", fn.__name__)\n",
    "    def wrapper(*args, **kwargs):\n",
    "        print(\"Start wrapper function from: \", fn.__name__)\n",
    "        fn_result = fn(*args, **kwargs)\n",
    "        print(\"End wrapper function from: \", fn.__name__)\n",
    "        return fn_result\n",
    "    print(\"End decorator function from: \", fn.__name__)\n",
    "    return wrapper"
   ]
  },
  {
   "cell_type": "code",
   "execution_count": 91,
   "metadata": {},
   "outputs": [
    {
     "name": "stdout",
     "output_type": "stream",
     "text": [
      "Start decorator function from:  print_hello_world\n",
      "End decorator function from:  print_hello_world\n"
     ]
    }
   ],
   "source": [
    "decorated_print_hello_world2 = decorator(print_hello_world)"
   ]
  },
  {
   "cell_type": "code",
   "execution_count": 92,
   "metadata": {},
   "outputs": [
    {
     "name": "stdout",
     "output_type": "stream",
     "text": [
      "Start wrapper function from:  print_hello_world\n",
      "Hello World!\n",
      "End wrapper function from:  print_hello_world\n"
     ]
    }
   ],
   "source": [
    "decorated_print_hello_world2()"
   ]
  },
  {
   "cell_type": "code",
   "execution_count": 93,
   "metadata": {},
   "outputs": [],
   "source": [
    "def print_arguments(a, b, c=None):\n",
    "    print(f\"A: {a}, B: {b}, C: {c}\")"
   ]
  },
  {
   "cell_type": "code",
   "execution_count": 94,
   "metadata": {},
   "outputs": [
    {
     "name": "stdout",
     "output_type": "stream",
     "text": [
      "Start decorator function from:  print_arguments\n",
      "End decorator function from:  print_arguments\n"
     ]
    }
   ],
   "source": [
    "decorated_print_arguments = decorator(print_arguments)"
   ]
  },
  {
   "cell_type": "code",
   "execution_count": 95,
   "metadata": {},
   "outputs": [
    {
     "name": "stdout",
     "output_type": "stream",
     "text": [
      "Start wrapper function from:  print_arguments\n",
      "A: 1, B: 2, C: 3\n",
      "End wrapper function from:  print_arguments\n"
     ]
    }
   ],
   "source": [
    "decorated_print_arguments(a=1, b=2, c=3)"
   ]
  },
  {
   "cell_type": "code",
   "execution_count": 96,
   "metadata": {},
   "outputs": [
    {
     "name": "stdout",
     "output_type": "stream",
     "text": [
      "Start decorator function from:  print_arguments2\n",
      "End decorator function from:  print_arguments2\n"
     ]
    }
   ],
   "source": [
    "# @DecoratorFunctionName\n",
    "@decorator\n",
    "def print_arguments2(a, b, c=None):\n",
    "    print(f\"A: {a}, B: {b}, C: {c}\")"
   ]
  },
  {
   "cell_type": "code",
   "execution_count": 97,
   "metadata": {},
   "outputs": [
    {
     "name": "stdout",
     "output_type": "stream",
     "text": [
      "Start wrapper function from:  print_arguments2\n",
      "A: 2, B: 3, C: 4\n",
      "End wrapper function from:  print_arguments2\n"
     ]
    }
   ],
   "source": [
    "print_arguments2(a=2, b=3, c=4)"
   ]
  }
 ],
 "metadata": {
  "file_extension": ".py",
  "interpreter": {
   "hash": "ef4ce19910938c421491e84375c43d450a079a1a865d40a0bc82f335363ab876"
  },
  "kernelspec": {
   "display_name": "Python 3.10.4 ('pyUdemy')",
   "language": "python",
   "name": "python3"
  },
  "language_info": {
   "codemirror_mode": {
    "name": "ipython",
    "version": 3
   },
   "file_extension": ".py",
   "mimetype": "text/x-python",
   "name": "python",
   "nbconvert_exporter": "python",
   "pygments_lexer": "ipython3",
   "version": "3.10.4"
  },
  "mimetype": "text/x-python",
  "name": "python",
  "npconvert_exporter": "python",
  "orig_nbformat": 2,
  "pygments_lexer": "ipython3",
  "version": 3
 },
 "nbformat": 4,
 "nbformat_minor": 2
}
