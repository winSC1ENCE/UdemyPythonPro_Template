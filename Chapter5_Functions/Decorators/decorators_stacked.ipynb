{
 "cells": [
  {
   "cell_type": "code",
   "execution_count": 1,
   "metadata": {},
   "outputs": [],
   "source": [
    "from functools import wraps\n",
    "import time"
   ]
  },
  {
   "cell_type": "code",
   "execution_count": 2,
   "metadata": {},
   "outputs": [],
   "source": [
    "def debug(fn):\n",
    "    print(\"Entering debug!\")\n",
    "    @wraps(fn)\n",
    "    def debugger(*args, **kwargs):\n",
    "        print(\"Entering debugger!\")\n",
    "        args_values_types = [(a, type(a)) for a in args]\n",
    "        kwargs_values_types = [(k, v, type(v)) for k, v in kwargs.items()]\n",
    "        print(\"Args: {}\".format(args_values_types))\n",
    "        print(\"Kwargs: {}\".format(kwargs_values_types))\n",
    "        print(\"Function {} called\".format(fn.__name__))\n",
    "        fn_result = fn(*args, **kwargs) # function\n",
    "        print(\"Function {} returns: {}\".format(fn.__name__, fn_result))\n",
    "        return fn_result\n",
    "    return debugger"
   ]
  },
  {
   "cell_type": "code",
   "execution_count": 3,
   "metadata": {},
   "outputs": [],
   "source": [
    "def timing(fn):\n",
    "    print(\"Entering timing!\")\n",
    "    @wraps(fn)\n",
    "    def timer(*args, **kwargs):\n",
    "        print(\"Entering timer!\")\n",
    "        start_time = time.perf_counter()\n",
    "        fn_result = fn(*args, **kwargs) # debug(my_function)\n",
    "        end_time = time.perf_counter()\n",
    "        time_duration = end_time - start_time\n",
    "        print(\"Function {} took: {} s\".format(fn.__name__, time_duration))\n",
    "        return fn_result\n",
    "    return timer"
   ]
  },
  {
   "cell_type": "markdown",
   "metadata": {},
   "source": [
    "Timing(debug(my_function))\n",
    "\n",
    "fn bei Timing: debug(my_function)\n",
    "fn bei Debug: my_function\n"
   ]
  },
  {
   "cell_type": "code",
   "execution_count": 4,
   "metadata": {},
   "outputs": [
    {
     "name": "stdout",
     "output_type": "stream",
     "text": [
      "Entering debug!\n",
      "Entering timing!\n",
      "Entering timer!\n",
      "Entering debugger!\n",
      "Args: [('Jan', <class 'str'>)]\n",
      "Kwargs: []\n",
      "Function my_function called\n",
      "Hello: Jan\n",
      "Function my_function returns: None\n",
      "Function my_function took: 0.0001222999999999086 s\n"
     ]
    }
   ],
   "source": [
    "@timing\n",
    "@debug\n",
    "def my_function(name):\n",
    "    print(\"Hello: {}\".format(name))\n",
    "\n",
    "my_function(\"Jan\")"
   ]
  }
 ],
 "metadata": {
  "interpreter": {
   "hash": "423c48e3256333a0e0252f1efeec30283ab6ba0213e3a05c32b0541c29f89950"
  },
  "kernelspec": {
   "display_name": "Python 3.8.1 64-bit ('pyUdemy': conda)",
   "language": "python",
   "name": "python3"
  },
  "language_info": {
   "codemirror_mode": {
    "name": "ipython",
    "version": 3
   },
   "file_extension": ".py",
   "mimetype": "text/x-python",
   "name": "python",
   "nbconvert_exporter": "python",
   "pygments_lexer": "ipython3",
   "version": "3.9.7"
  },
  "orig_nbformat": 2
 },
 "nbformat": 4,
 "nbformat_minor": 2
}
