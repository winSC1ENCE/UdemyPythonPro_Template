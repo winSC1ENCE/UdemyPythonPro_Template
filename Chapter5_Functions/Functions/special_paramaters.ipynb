{
 "cells": [
  {
   "cell_type": "markdown",
   "metadata": {},
   "source": [
    "### Special Parameters"
   ]
  },
  {
   "cell_type": "markdown",
   "metadata": {},
   "source": [
    "If / and * are not present in the function definition, arguments may be passed to a function by position or by keyword  "
   ]
  },
  {
   "cell_type": "code",
   "execution_count": 22,
   "metadata": {},
   "outputs": [
    {
     "name": "stdout",
     "output_type": "stream",
     "text": [
      "2\n",
      "2\n"
     ]
    }
   ],
   "source": [
    "def standard_arg(a):\n",
    "    print(a)\n",
    "\n",
    "standard_arg(2)\n",
    "standard_arg(a=2)"
   ]
  },
  {
   "cell_type": "markdown",
   "metadata": {},
   "source": [
    "If positional-only, the parameters’ order matters, and the parameters cannot be passed by keyword.  \n",
    "Positional-only parameters are placed before a / (forward-slash).   \n",
    "Use positional-only if you want the name of the parameters to not be available to the user"
   ]
  },
  {
   "cell_type": "code",
   "execution_count": 23,
   "metadata": {},
   "outputs": [
    {
     "name": "stdout",
     "output_type": "stream",
     "text": [
      "1\n",
      "5\n"
     ]
    }
   ],
   "source": [
    "def pos_only_arg(a, /):\n",
    "    print(a)\n",
    "\n",
    "my_val = 5\n",
    "pos_only_arg(1)\n",
    "pos_only_arg(my_val)\n",
    "# pos_only_arg(a=1)"
   ]
  },
  {
   "cell_type": "markdown",
   "metadata": {},
   "source": [
    "To mark parameters as keyword-only, indicating the parameters must be passed by keyword argument, place an * in the arguments list just before the first keyword-only parameter.  \n",
    "Use keyword-only when names have meaning and the function definition is more understandable by  being explicit with names"
   ]
  },
  {
   "cell_type": "code",
   "execution_count": 24,
   "metadata": {},
   "outputs": [
    {
     "name": "stdout",
     "output_type": "stream",
     "text": [
      "3\n"
     ]
    }
   ],
   "source": [
    "def kwd_only_arg(*, a):\n",
    "    print(a)\n",
    "\n",
    "kwd_only_arg(a=3)\n",
    "# kwd_only_arg(3)"
   ]
  },
  {
   "cell_type": "code",
   "execution_count": 25,
   "metadata": {},
   "outputs": [
    {
     "name": "stdout",
     "output_type": "stream",
     "text": [
      "1 2 3\n",
      "1 2 3\n"
     ]
    }
   ],
   "source": [
    "def combined_example(a, /, b, *, c):\n",
    "    print(a, b, c)\n",
    "\n",
    "# combined_example(1, 2, 3)\n",
    "combined_example(1, 2, c=3)\n",
    "combined_example(1, b=2, c=3)\n",
    "# combined_example(a=1, b=2, c=3)"
   ]
  }
 ],
 "metadata": {
  "file_extension": ".py",
  "interpreter": {
   "hash": "ef4ce19910938c421491e84375c43d450a079a1a865d40a0bc82f335363ab876"
  },
  "kernelspec": {
   "display_name": "Python 3.10.4 ('pyUdemy')",
   "language": "python",
   "name": "python3"
  },
  "language_info": {
   "codemirror_mode": {
    "name": "ipython",
    "version": 3
   },
   "file_extension": ".py",
   "mimetype": "text/x-python",
   "name": "python",
   "nbconvert_exporter": "python",
   "pygments_lexer": "ipython3",
   "version": "3.10.4"
  },
  "mimetype": "text/x-python",
  "name": "python",
  "npconvert_exporter": "python",
  "orig_nbformat": 2,
  "pygments_lexer": "ipython3",
  "version": 3
 },
 "nbformat": 4,
 "nbformat_minor": 2
}
