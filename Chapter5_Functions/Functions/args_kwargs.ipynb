{
 "cells": [
  {
   "cell_type": "code",
   "execution_count": 1,
   "metadata": {},
   "outputs": [],
   "source": [
    "def my_function(a, b, c=10, d=12, e=13):\n",
    "    print(f'a: {a}, b: {b}, c: {c}, d: {d}, e:{e}')"
   ]
  },
  {
   "cell_type": "code",
   "execution_count": 2,
   "metadata": {},
   "outputs": [
    {
     "name": "stdout",
     "output_type": "stream",
     "text": [
      "a: 1, b: 2, c: 10, d: 12, e:13\n"
     ]
    }
   ],
   "source": [
    "my_function(1, 2)"
   ]
  },
  {
   "cell_type": "markdown",
   "metadata": {},
   "source": [
    "### Positional Arguments"
   ]
  },
  {
   "cell_type": "markdown",
   "metadata": {},
   "source": [
    "*args: variable number of pos. arguments"
   ]
  },
  {
   "cell_type": "code",
   "execution_count": 11,
   "metadata": {},
   "outputs": [
    {
     "name": "stdout",
     "output_type": "stream",
     "text": [
      "3 4 <class 'tuple'>\n",
      "a: 1, b: 2, args: (3, 4)\n",
      "3 <class 'tuple'>\n",
      "a: 1, b: 2, args: (3,)\n",
      "<class 'tuple'>\n",
      "a: 1, b: 2, args: ()\n"
     ]
    }
   ],
   "source": [
    "def my_function2(a, b, *args):\n",
    "    print(*args, type(args))\n",
    "    print(f'a: {a}, b: {b}, args: {args}')\n",
    "\n",
    "my_function2(1, 2, 3, 4)\n",
    "my_function2(1, 2, 3)\n",
    "my_function2(1, 2)"
   ]
  },
  {
   "cell_type": "code",
   "execution_count": 4,
   "metadata": {},
   "outputs": [
    {
     "name": "stdout",
     "output_type": "stream",
     "text": [
      "3 4 <class 'tuple'>\n",
      "a: 1, b: 2, args: (3, 4)\n"
     ]
    }
   ],
   "source": [
    "def my_function3(*args):\n",
    "    print(*args, type(args))\n",
    "    print(f'args: {args}')\n",
    "\n",
    "my_function2(1, 2, 3, 4)"
   ]
  },
  {
   "cell_type": "markdown",
   "metadata": {},
   "source": [
    "NORMAL ARGS; *ARGS; DEFAULT ARGS"
   ]
  },
  {
   "cell_type": "code",
   "execution_count": 5,
   "metadata": {},
   "outputs": [],
   "source": [
    "def my_function4(a, *args, b=None):\n",
    "    print(*args, type(args))\n",
    "    print(f'a: {a}, b: {b}, args: {args}')\n",
    "\n",
    "# my_function4(1, b=2, 3, 4) # errors"
   ]
  },
  {
   "cell_type": "markdown",
   "metadata": {},
   "source": [
    "### Keyword Arguments"
   ]
  },
  {
   "cell_type": "markdown",
   "metadata": {},
   "source": [
    "- Normal Args; *Args; Default Args; **Kwargs  \n",
    "- *Args: Tuple  \n",
    "- **Kwargs: Dict  "
   ]
  },
  {
   "cell_type": "code",
   "execution_count": 6,
   "metadata": {},
   "outputs": [],
   "source": [
    "def my_function(a, *args, x=2, y=3, z=4, **kwargs):\n",
    "    print(args, type(args))\n",
    "    print(kwargs, type(kwargs))\n",
    "    print(f'a: {a}, x: {x}, y: {y} , z: {z}\\nargs: {args}\\nkwargs: {kwargs}')"
   ]
  },
  {
   "cell_type": "code",
   "execution_count": 7,
   "metadata": {},
   "outputs": [
    {
     "name": "stdout",
     "output_type": "stream",
     "text": [
      "(3, 4) <class 'tuple'>\n",
      "{'b': False, 'c': 30, 'd': 40.5} <class 'dict'>\n",
      "a: 1, x: 13.37, y: 3 , z: 4\n",
      "args: (3, 4)\n",
      "kwargs: {'b': False, 'c': 30, 'd': 40.5}\n"
     ]
    }
   ],
   "source": [
    "my_function(1, 3, 4, x=13.37, b=False, c=30, d=40.5)"
   ]
  },
  {
   "cell_type": "code",
   "execution_count": 8,
   "metadata": {},
   "outputs": [],
   "source": [
    "def my_function(*args, **kwargs):\n",
    "    print(f'args: {args}\\nkwargs: {kwargs}')"
   ]
  },
  {
   "cell_type": "code",
   "execution_count": 9,
   "metadata": {},
   "outputs": [
    {
     "name": "stdout",
     "output_type": "stream",
     "text": [
      "args: (1, 3, 4)\n",
      "kwargs: {'x': 13.37, 'b': False, 'c': 30, 'd': 40.5}\n"
     ]
    }
   ],
   "source": [
    "my_function(1, 3, 4, x=13.37, b=False, c=30, d=40.5)"
   ]
  }
 ],
 "metadata": {
  "file_extension": ".py",
  "interpreter": {
   "hash": "ef4ce19910938c421491e84375c43d450a079a1a865d40a0bc82f335363ab876"
  },
  "kernelspec": {
   "display_name": "Python 3.10.4 ('pyUdemy')",
   "language": "python",
   "name": "python3"
  },
  "language_info": {
   "codemirror_mode": {
    "name": "ipython",
    "version": 3
   },
   "file_extension": ".py",
   "mimetype": "text/x-python",
   "name": "python",
   "nbconvert_exporter": "python",
   "pygments_lexer": "ipython3",
   "version": "3.10.4"
  },
  "mimetype": "text/x-python",
  "name": "python",
  "npconvert_exporter": "python",
  "orig_nbformat": 2,
  "pygments_lexer": "ipython3",
  "version": 3
 },
 "nbformat": 4,
 "nbformat_minor": 2
}
