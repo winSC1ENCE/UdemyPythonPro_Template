{
 "cells": [
  {
   "cell_type": "markdown",
   "metadata": {},
   "source": [
    "### Context Managers:\n",
    "\n",
    "```python\n",
    "with ContextManager() as var_name:\n",
    "    pass # do_something\n",
    "```\n",
    "\n",
    "At entering the with-Context, the object gets created (__init__ and __enter__).  \n",
    "At exiting the with-Context, the object calls the __exit__ method."
   ]
  },
  {
   "cell_type": "code",
   "execution_count": 1,
   "metadata": {},
   "outputs": [],
   "source": [
    "class NameHandler:\n",
    "    def __init__(self, name):\n",
    "        self.name = name\n",
    "        print(f\"Creating {self.name}\")\n",
    "\n",
    "    def __enter__(self):\n",
    "        print(f\"Entering with: {self.name}\")\n",
    "        if not isinstance(self.name, str):\n",
    "            raise TypeError\n",
    "        return self\n",
    "\n",
    "    def __exit__(self, exception_type, exception_value, traceback):\n",
    "        print(f\"Exiting with: {self.name}\")"
   ]
  },
  {
   "cell_type": "code",
   "execution_count": 2,
   "metadata": {},
   "outputs": [
    {
     "name": "stdout",
     "output_type": "stream",
     "text": [
      "Creating Jan\n",
      "Entering with: Jan\n",
      "Exiting with: 2\n"
     ]
    }
   ],
   "source": [
    "with NameHandler(\"Jan\") as m: # __init__\n",
    "    m.name = 2 # __enter__\n",
    "# __exit__"
   ]
  }
 ],
 "metadata": {
  "interpreter": {
   "hash": "f7005c152070cabaaf593843feaa8c4a4a04ad569523413e5d5955ceb49c894d"
  },
  "kernelspec": {
   "display_name": "Python 3.10.4 ('pyData')",
   "language": "python",
   "name": "python3"
  },
  "language_info": {
   "codemirror_mode": {
    "name": "ipython",
    "version": 3
   },
   "file_extension": ".py",
   "mimetype": "text/x-python",
   "name": "python",
   "nbconvert_exporter": "python",
   "pygments_lexer": "ipython3",
   "version": "3.10.4"
  },
  "orig_nbformat": 2
 },
 "nbformat": 4,
 "nbformat_minor": 2
}
