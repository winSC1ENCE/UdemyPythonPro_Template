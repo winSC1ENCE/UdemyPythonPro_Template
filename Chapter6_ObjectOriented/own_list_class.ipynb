{
 "cells": [
  {
   "cell_type": "code",
   "execution_count": 14,
   "metadata": {},
   "outputs": [],
   "source": [
    "from collections.abc import MutableSequence"
   ]
  },
  {
   "cell_type": "code",
   "execution_count": 15,
   "metadata": {},
   "outputs": [],
   "source": [
    "class MyOwnList(MutableSequence):\n",
    "    def __init__(self, values=None):\n",
    "        super().__init__()\n",
    "        if values:\n",
    "            self._values = values\n",
    "        else:\n",
    "            self._values = []"
   ]
  },
  {
   "cell_type": "code",
   "execution_count": 16,
   "metadata": {},
   "outputs": [
    {
     "name": "stdout",
     "output_type": "stream",
     "text": [
      "Can't instantiate abstract class MyOwnList with abstract methods __delitem__, __getitem__, __len__, __setitem__, insert\n"
     ]
    }
   ],
   "source": [
    "try:\n",
    "    l = MyOwnList()\n",
    "except TypeError as e:\n",
    "    print(e)"
   ]
  },
  {
   "cell_type": "code",
   "execution_count": 17,
   "metadata": {},
   "outputs": [],
   "source": [
    "class MyOwnList(MutableSequence):\n",
    "    def __init__(self, values=None):\n",
    "        super().__init__()\n",
    "        if values:\n",
    "            self._values = values\n",
    "        else:\n",
    "            self._values = []\n",
    "\n",
    "    def __str__(self):\n",
    "        return str(self._values)\n",
    "\n",
    "    def __len__(self):\n",
    "        return len(self._values)\n",
    "\n",
    "    def __getitem__(self, idx):\n",
    "        return self._values[idx]\n",
    "\n",
    "    def __setitem__(self, idx, val):\n",
    "        self._values[idx] = val\n",
    "\n",
    "    def __delitem__(self, idx):\n",
    "        del self._values[idx]\n",
    "\n",
    "    def insert(self, idx, val):\n",
    "        self._values.insert(idx, val)\n",
    "\n",
    "    def append(self, val):\n",
    "        self._values.append(val)"
   ]
  },
  {
   "cell_type": "code",
   "execution_count": 18,
   "metadata": {},
   "outputs": [
    {
     "name": "stdout",
     "output_type": "stream",
     "text": [
      "[1, 2, 3]\n",
      "3\n"
     ]
    }
   ],
   "source": [
    "my_list = MyOwnList([1, 2, 3]) # __init__\n",
    "\n",
    "print(my_list) # __str__\n",
    "print(len(my_list)) # __len__"
   ]
  },
  {
   "cell_type": "code",
   "execution_count": 19,
   "metadata": {},
   "outputs": [
    {
     "name": "stdout",
     "output_type": "stream",
     "text": [
      "1\n"
     ]
    }
   ],
   "source": [
    "print(my_list[0]) # __getitem__\n",
    "my_list[0] = 'hello' # __setitem__"
   ]
  },
  {
   "cell_type": "code",
   "execution_count": 20,
   "metadata": {},
   "outputs": [
    {
     "name": "stdout",
     "output_type": "stream",
     "text": [
      "['hello', 2, 3]\n",
      "['hello', 3]\n"
     ]
    }
   ],
   "source": [
    "print(my_list) # __str__\n",
    "del my_list[1] # __del__\n",
    "print(my_list) # __str__"
   ]
  }
 ],
 "metadata": {
  "file_extension": ".py",
  "interpreter": {
   "hash": "ef4ce19910938c421491e84375c43d450a079a1a865d40a0bc82f335363ab876"
  },
  "kernelspec": {
   "display_name": "Python 3.10.4 ('pyUdemy')",
   "language": "python",
   "name": "python3"
  },
  "language_info": {
   "codemirror_mode": {
    "name": "ipython",
    "version": 3
   },
   "file_extension": ".py",
   "mimetype": "text/x-python",
   "name": "python",
   "nbconvert_exporter": "python",
   "pygments_lexer": "ipython3",
   "version": "3.10.4"
  },
  "mimetype": "text/x-python",
  "name": "python",
  "npconvert_exporter": "python",
  "orig_nbformat": 2,
  "pygments_lexer": "ipython3",
  "version": 3
 },
 "nbformat": 4,
 "nbformat_minor": 2
}
