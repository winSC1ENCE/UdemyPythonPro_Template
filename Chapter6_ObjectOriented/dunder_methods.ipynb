{
 "cells": [
  {
   "cell_type": "markdown",
   "metadata": {},
   "source": [
    "#### Basic Customizations\n",
    "\n",
    "- __new__(self) return a new object (an instance of that class).\n",
    "- __init__(self) is called when the object is initialized.\n",
    "- __del__(self) for del() function. Called when the object is to be destroyed.\n",
    "- __repr__(self) for repr() function. It returns a string to print the object.\n",
    "- __str__(self) for str() function. Return a string to print the object.\n",
    "- __bytes__(self) for bytes() function. Return a byte object which is the byte string representation.\n",
    "- __format__(self) for format() function. Evaluate formatted string literals."
   ]
  },
  {
   "cell_type": "markdown",
   "metadata": {},
   "source": [
    "#### Comparison Operators\n",
    "\n",
    "- __lt__(self, anotherObj) for < operator.\n",
    "- __le__(self, anotherObj) for <= operator.\n",
    "- __eq__(self, anotherObj) for == operator.\n",
    "- __ne__(self, anotherObj) for != operator.\n",
    "- __gt__(self, anotherObj)for > operator.\n",
    "- __ge__(self, anotherObj)for >= operator."
   ]
  },
  {
   "cell_type": "markdown",
   "metadata": {},
   "source": [
    "#### Arithmetic Operators\n",
    "\n",
    "- __add__(self, anotherObj) for + operator.\n",
    "- __sub__(self, anotherObj) for – operation on object.\n",
    "- __mul__(self, anotherObj) for * operation on object.\n",
    "- __matmul__(self, anotherObj) for @ operator (numpy matrix multiplication).\n",
    "- __truediv__(self, anotherObj) for simple / division operation on object.\n",
    "- __floordiv__(self, anotherObj) for // floor division operation on object."
   ]
  },
  {
   "cell_type": "markdown",
   "metadata": {},
   "source": [
    "#### Type Conversion\n",
    "\n",
    "- __abs__(self) make support for abs() function.\n",
    "- __int__(self) support for int() function. Returns the integer value.\n",
    "- __float__(self) for float() function support. Returns float equivalent.\n",
    "- __complex__(self) for complex() function support. Return complex value.\n",
    "- __round__(self, nDigits) for round() function.\n",
    "- __trunc__(self) for trunc() function of math module.\n",
    "- __ceil__(self) for ceil() function of math module.\n",
    "- __floor__(self) for floor() function of math module."
   ]
  },
  {
   "cell_type": "markdown",
   "metadata": {},
   "source": [
    "#### Emulating Container Types\n",
    "\n",
    "- __len__(self) for len() function. Returns the total number in any container.\n",
    "- __getitem__(self, key) to support index lookup.\n",
    "- __setitem__(self, key, value) to support index assignment\n",
    "- __delitem__(self, key) for del() function. Delete the value at the index.\n",
    "- __iter__(self) returns an iterator when required that iterates all values in the container."
   ]
  },
  {
   "cell_type": "markdown",
   "metadata": {},
   "source": [
    "#### Summary\n",
    "\n",
    "- Dunder Methods makes our class compatible with inbuilt functions like abs(), len(), str() and many more."
   ]
  }
 ],
 "metadata": {
  "file_extension": ".py",
  "interpreter": {
   "hash": "ef4ce19910938c421491e84375c43d450a079a1a865d40a0bc82f335363ab876"
  },
  "kernelspec": {
   "display_name": "Python 3.10.4 ('pyUdemy')",
   "language": "python",
   "name": "python3"
  },
  "language_info": {
   "codemirror_mode": {
    "name": "ipython",
    "version": 3
   },
   "name": "python",
   "version": "3.10.4"
  },
  "mimetype": "text/x-python",
  "name": "python",
  "npconvert_exporter": "python",
  "orig_nbformat": 2,
  "pygments_lexer": "ipython3",
  "version": 3
 },
 "nbformat": 4,
 "nbformat_minor": 2
}
