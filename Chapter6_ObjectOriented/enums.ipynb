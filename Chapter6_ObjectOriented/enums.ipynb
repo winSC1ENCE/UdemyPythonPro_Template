{
 "cells": [
  {
   "cell_type": "code",
   "execution_count": 1,
   "metadata": {},
   "outputs": [],
   "source": [
    "from enum import Enum\n",
    "from enum import IntEnum\n",
    "from enum import auto"
   ]
  },
  {
   "cell_type": "markdown",
   "metadata": {},
   "source": [
    "# Enum"
   ]
  },
  {
   "cell_type": "code",
   "execution_count": 2,
   "metadata": {},
   "outputs": [],
   "source": [
    "class Colors(Enum):\n",
    "    RED = 1\n",
    "    GREEN = 2\n",
    "    BLUE = 3"
   ]
  },
  {
   "cell_type": "code",
   "execution_count": 3,
   "metadata": {},
   "outputs": [
    {
     "name": "stdout",
     "output_type": "stream",
     "text": [
      "False\n"
     ]
    }
   ],
   "source": [
    "color = Colors.RED\n",
    "\n",
    "print(issubclass(Colors, int))"
   ]
  },
  {
   "cell_type": "code",
   "execution_count": 4,
   "metadata": {},
   "outputs": [
    {
     "name": "stdout",
     "output_type": "stream",
     "text": [
      "The color is red\n"
     ]
    }
   ],
   "source": [
    "if (color == Colors.RED):\n",
    "    print(\"The color is red\")\n",
    "elif (color == Colors.GREEN):\n",
    "    print(\"The color is green\")\n",
    "elif (color == Colors.BLUE):\n",
    "    print(\"The color is blue\")"
   ]
  },
  {
   "cell_type": "code",
   "execution_count": 5,
   "metadata": {},
   "outputs": [],
   "source": [
    "class Colors2(IntEnum):\n",
    "    RED = 1\n",
    "    GREEN = 2\n",
    "    BLUE = 3"
   ]
  },
  {
   "cell_type": "code",
   "execution_count": 6,
   "metadata": {},
   "outputs": [
    {
     "name": "stdout",
     "output_type": "stream",
     "text": [
      "True\n"
     ]
    }
   ],
   "source": [
    "color2 = Colors2.RED\n",
    "\n",
    "print(issubclass(Colors2, int))"
   ]
  },
  {
   "cell_type": "code",
   "execution_count": 7,
   "metadata": {},
   "outputs": [],
   "source": [
    "if (color == Colors2.RED):\n",
    "    print(\"The color is red\")\n",
    "elif (color == Colors2.GREEN):\n",
    "    print(\"The color is green\")\n",
    "elif (color == Colors2.BLUE):\n",
    "    print(\"The color is blue\")"
   ]
  },
  {
   "cell_type": "code",
   "execution_count": 8,
   "metadata": {},
   "outputs": [],
   "source": [
    "class Colors3(Enum):\n",
    "    RED = auto()\n",
    "    GREEN = auto()\n",
    "    BLUE = auto()"
   ]
  },
  {
   "cell_type": "code",
   "execution_count": 9,
   "metadata": {},
   "outputs": [
    {
     "name": "stdout",
     "output_type": "stream",
     "text": [
      "[<Colors3.RED: 1>, <Colors3.GREEN: 2>, <Colors3.BLUE: 3>]\n"
     ]
    }
   ],
   "source": [
    "color3 = Colors3.RED\n",
    "\n",
    "print(list(Colors3))"
   ]
  }
 ],
 "metadata": {
  "interpreter": {
   "hash": "f7005c152070cabaaf593843feaa8c4a4a04ad569523413e5d5955ceb49c894d"
  },
  "kernelspec": {
   "display_name": "Python 3.10.4 ('pyData')",
   "language": "python",
   "name": "python3"
  },
  "language_info": {
   "codemirror_mode": {
    "name": "ipython",
    "version": 3
   },
   "file_extension": ".py",
   "mimetype": "text/x-python",
   "name": "python",
   "nbconvert_exporter": "python",
   "pygments_lexer": "ipython3",
   "version": "3.10.4"
  },
  "orig_nbformat": 4
 },
 "nbformat": 4,
 "nbformat_minor": 2
}
