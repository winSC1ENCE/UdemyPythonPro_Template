{
 "cells": [
  {
   "cell_type": "code",
   "execution_count": 4,
   "metadata": {},
   "outputs": [],
   "source": [
    "import itertools"
   ]
  },
  {
   "cell_type": "code",
   "execution_count": 5,
   "metadata": {},
   "outputs": [],
   "source": [
    "class NamesIterator:\n",
    "    def __init__(self, names):\n",
    "        self.names = names\n",
    "        self.num_names = len(self.names)\n",
    "        self.current_n = 0\n",
    "\n",
    "    def __iter__(self):\n",
    "        self.current_n = 0\n",
    "        return self\n",
    "\n",
    "    def __next__(self):\n",
    "        if self.current_n < self.num_names:\n",
    "            current_result = self.names[self.current_n]\n",
    "            self.current_n += 1\n",
    "            return current_result\n",
    "        else:\n",
    "            self.current_n = 0\n",
    "            current_result = self.names[self.current_n]\n",
    "            self.current_n += 1\n",
    "            return current_result"
   ]
  },
  {
   "cell_type": "code",
   "execution_count": 6,
   "metadata": {
    "tags": [
     "outputPrepend",
     "outputPrepend",
     "outputPrepend",
     "outputPrepend",
     "outputPrepend",
     "outputPrepend",
     "outputPrepend",
     "outputPrepend",
     "outputPrepend",
     "outputPrepend",
     "outputPrepend",
     "outputPrepend",
     "outputPrepend",
     "outputPrepend",
     "outputPrepend",
     "outputPrepend",
     "outputPrepend",
     "outputPrepend",
     "outputPrepend",
     "outputPrepend",
     "outputPrepend",
     "outputPrepend",
     "outputPrepend",
     "outputPrepend",
     "outputPrepend",
     "outputPrepend"
    ]
   },
   "outputs": [
    {
     "name": "stdout",
     "output_type": "stream",
     "text": [
      "Jan\n",
      "Peter\n",
      "Dennis\n",
      "Jan\n",
      "Peter\n",
      "Dennis\n",
      "Jan\n"
     ]
    }
   ],
   "source": [
    "names = [\"Jan\", \"Peter\", \"Dennis\"]\n",
    "\n",
    "my_iterator = NamesIterator(names)\n",
    "\n",
    "for i in range(7):\n",
    "    print(next(my_iterator))"
   ]
  },
  {
   "cell_type": "code",
   "execution_count": 7,
   "metadata": {},
   "outputs": [
    {
     "name": "stdout",
     "output_type": "stream",
     "text": [
      "Jan\n",
      "Peter\n",
      "Dennis\n",
      "Jan\n",
      "Peter\n",
      "Dennis\n",
      "Jan\n"
     ]
    }
   ],
   "source": [
    "names2 = [\"Jan\", \"Peter\", \"Dennis\"]\n",
    "\n",
    "my_iterator2 = itertools.cycle(names)\n",
    "\n",
    "for i in range(7):\n",
    "    print(next(my_iterator2))"
   ]
  }
 ],
 "metadata": {
  "file_extension": ".py",
  "interpreter": {
   "hash": "ef4ce19910938c421491e84375c43d450a079a1a865d40a0bc82f335363ab876"
  },
  "kernelspec": {
   "display_name": "Python 3.10.4 ('pyUdemy')",
   "language": "python",
   "name": "python3"
  },
  "language_info": {
   "codemirror_mode": {
    "name": "ipython",
    "version": 3
   },
   "file_extension": ".py",
   "mimetype": "text/x-python",
   "name": "python",
   "nbconvert_exporter": "python",
   "pygments_lexer": "ipython3",
   "version": "3.10.4"
  },
  "mimetype": "text/x-python",
  "name": "python",
  "npconvert_exporter": "python",
  "orig_nbformat": 2,
  "pygments_lexer": "ipython3",
  "version": 3
 },
 "nbformat": 4,
 "nbformat_minor": 2
}
