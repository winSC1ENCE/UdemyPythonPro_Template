{
 "cells": [
  {
   "cell_type": "markdown",
   "metadata": {},
   "source": [
    "### Named Tuple\n",
    "\n",
    "Tuple subclasses with named fields\n",
    "\n",
    "- immutable\n",
    "- hashable\n",
    "- **\\_\\_repr\\_\\_**, **\\_\\_str\\_\\_** and compare defined\n",
    "- Support indexing"
   ]
  },
  {
   "cell_type": "code",
   "execution_count": 10,
   "metadata": {},
   "outputs": [],
   "source": [
    "from collections import namedtuple\n",
    "from pprint import pprint"
   ]
  },
  {
   "cell_type": "code",
   "execution_count": 11,
   "metadata": {},
   "outputs": [],
   "source": [
    "User = namedtuple(\n",
    "    'User',\n",
    "    ['firstname', 'lastname', 'birthday']\n",
    ")"
   ]
  },
  {
   "cell_type": "code",
   "execution_count": 12,
   "metadata": {},
   "outputs": [],
   "source": [
    "user_jan = User(\n",
    "    firstname='Jan',\n",
    "    lastname='Schaffranek',\n",
    "    birthday='24.02.1994'\n",
    ")\n",
    "user_peter = User(\n",
    "    firstname='Peter',\n",
    "    lastname='Peterson',\n",
    "    birthday='01.01.1990'\n",
    ")"
   ]
  },
  {
   "cell_type": "code",
   "execution_count": 13,
   "metadata": {},
   "outputs": [
    {
     "name": "stdout",
     "output_type": "stream",
     "text": [
      "User(firstname='Jan', lastname='Schaffranek', birthday='24.02.1994')\n",
      "User(firstname='Peter', lastname='Peterson', birthday='01.01.1990')\n"
     ]
    }
   ],
   "source": [
    "print(user_jan)\n",
    "print(user_peter)"
   ]
  },
  {
   "cell_type": "code",
   "execution_count": 14,
   "metadata": {},
   "outputs": [
    {
     "name": "stdout",
     "output_type": "stream",
     "text": [
      "User(firstname='Jan', lastname='Schaffranek', birthday='24.02.1994')\n",
      "User(firstname='Jan', lastname='Schaffranek', birthday='24.02.1994')\n"
     ]
    }
   ],
   "source": [
    "print(user_jan.__repr__())\n",
    "print(user_jan.__str__())"
   ]
  },
  {
   "cell_type": "code",
   "execution_count": 15,
   "metadata": {},
   "outputs": [
    {
     "name": "stdout",
     "output_type": "stream",
     "text": [
      "24.02.1994\n",
      "Jan\n",
      "Schaffranek\n"
     ]
    }
   ],
   "source": [
    "print(user_jan.birthday)\n",
    "print(user_jan.firstname)\n",
    "print(user_jan.lastname)"
   ]
  },
  {
   "cell_type": "code",
   "execution_count": 16,
   "metadata": {},
   "outputs": [
    {
     "name": "stdout",
     "output_type": "stream",
     "text": [
      "['__annotations__',\n",
      " '__builtins__',\n",
      " '__call__',\n",
      " '__class__',\n",
      " '__closure__',\n",
      " '__code__',\n",
      " '__defaults__',\n",
      " '__delattr__',\n",
      " '__dict__',\n",
      " '__dir__',\n",
      " '__doc__',\n",
      " '__eq__',\n",
      " '__format__',\n",
      " '__ge__',\n",
      " '__get__',\n",
      " '__getattribute__',\n",
      " '__globals__',\n",
      " '__gt__',\n",
      " '__hash__',\n",
      " '__init__',\n",
      " '__init_subclass__',\n",
      " '__kwdefaults__',\n",
      " '__le__',\n",
      " '__lt__',\n",
      " '__module__',\n",
      " '__name__',\n",
      " '__ne__',\n",
      " '__new__',\n",
      " '__qualname__',\n",
      " '__reduce__',\n",
      " '__reduce_ex__',\n",
      " '__repr__',\n",
      " '__setattr__',\n",
      " '__sizeof__',\n",
      " '__str__',\n",
      " '__subclasshook__']\n"
     ]
    }
   ],
   "source": [
    "pprint(dir(namedtuple))"
   ]
  },
  {
   "cell_type": "code",
   "execution_count": 17,
   "metadata": {},
   "outputs": [],
   "source": [
    "# user_jan.birthday = '24.03.1994'"
   ]
  },
  {
   "cell_type": "code",
   "execution_count": 18,
   "metadata": {},
   "outputs": [
    {
     "data": {
      "text/plain": [
       "{'firstname': 'Jan', 'lastname': 'Schaffranek', 'birthday': '24.02.1994'}"
      ]
     },
     "execution_count": 18,
     "metadata": {},
     "output_type": "execute_result"
    }
   ],
   "source": [
    "user_jan._asdict()"
   ]
  },
  {
   "cell_type": "code",
   "execution_count": 19,
   "metadata": {},
   "outputs": [
    {
     "data": {
      "text/plain": [
       "User(firstname='Janina', lastname='Schaffranek', birthday='24.02.1994')"
      ]
     },
     "execution_count": 19,
     "metadata": {},
     "output_type": "execute_result"
    }
   ],
   "source": [
    "user_jan._replace(firstname=\"Janina\")"
   ]
  }
 ],
 "metadata": {
  "file_extension": ".py",
  "interpreter": {
   "hash": "ef4ce19910938c421491e84375c43d450a079a1a865d40a0bc82f335363ab876"
  },
  "kernelspec": {
   "display_name": "Python 3.10.4 ('pyUdemy')",
   "language": "python",
   "name": "python3"
  },
  "language_info": {
   "codemirror_mode": {
    "name": "ipython",
    "version": 3
   },
   "file_extension": ".py",
   "mimetype": "text/x-python",
   "name": "python",
   "nbconvert_exporter": "python",
   "pygments_lexer": "ipython3",
   "version": "3.10.4"
  },
  "mimetype": "text/x-python",
  "name": "python",
  "npconvert_exporter": "python",
  "orig_nbformat": 2,
  "pygments_lexer": "ipython3",
  "version": 3
 },
 "nbformat": 4,
 "nbformat_minor": 2
}
