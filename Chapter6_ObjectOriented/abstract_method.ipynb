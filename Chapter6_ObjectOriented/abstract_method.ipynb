{
 "cells": [
  {
   "cell_type": "code",
   "execution_count": 62,
   "metadata": {},
   "outputs": [],
   "source": [
    "import abc\n",
    "\n",
    "class Base(metaclass=abc.ABCMeta):\n",
    "    @abc.abstractmethod\n",
    "    def m1(self):\n",
    "        return\n",
    "\n",
    "    @staticmethod\n",
    "    @abc.abstractmethod\n",
    "    def m2(self):\n",
    "        return\n",
    "\n",
    "    @classmethod\n",
    "    @abc.abstractmethod\n",
    "    def m3(self):\n",
    "        return"
   ]
  },
  {
   "cell_type": "code",
   "execution_count": 63,
   "metadata": {},
   "outputs": [],
   "source": [
    "#b = Base()"
   ]
  },
  {
   "cell_type": "code",
   "execution_count": 64,
   "metadata": {},
   "outputs": [],
   "source": [
    "class MyClass1(Base):\n",
    "    def m1(self):\n",
    "        return 'm1'\n",
    "\n",
    "    def m2(self):\n",
    "        return 'm1'\n",
    "\n",
    "class MyClass2(Base):\n",
    "    def m1(self):\n",
    "        return 1\n",
    "\n",
    "    def m2(self):\n",
    "        return 2\n",
    "\n",
    "    def m3(self):\n",
    "        return 3"
   ]
  },
  {
   "cell_type": "code",
   "execution_count": 65,
   "metadata": {},
   "outputs": [
    {
     "output_type": "error",
     "ename": "TypeError",
     "evalue": "Can't instantiate abstract class MyClass1 with abstract methods m3",
     "traceback": [
      "\u001b[1;31m---------------------------------------------------------------------------\u001b[0m",
      "\u001b[1;31mTypeError\u001b[0m                                 Traceback (most recent call last)",
      "\u001b[1;32m<ipython-input-65-75471b22fe37>\u001b[0m in \u001b[0;36m<module>\u001b[1;34m\u001b[0m\n\u001b[1;32m----> 1\u001b[1;33m \u001b[0mvar\u001b[0m \u001b[1;33m=\u001b[0m \u001b[0mMyClass1\u001b[0m\u001b[1;33m(\u001b[0m\u001b[1;33m)\u001b[0m\u001b[1;33m\u001b[0m\u001b[1;33m\u001b[0m\u001b[0m\n\u001b[0m\u001b[0;32m      2\u001b[0m \u001b[0mvar\u001b[0m\u001b[1;33m.\u001b[0m\u001b[0mm1\u001b[0m\u001b[1;33m(\u001b[0m\u001b[1;33m)\u001b[0m\u001b[1;33m\u001b[0m\u001b[1;33m\u001b[0m\u001b[0m\n",
      "\u001b[1;31mTypeError\u001b[0m: Can't instantiate abstract class MyClass1 with abstract methods m3"
     ]
    }
   ],
   "source": [
    "var = MyClass1()\n",
    "var.m1()"
   ]
  },
  {
   "cell_type": "code",
   "execution_count": 66,
   "metadata": {},
   "outputs": [
    {
     "output_type": "execute_result",
     "data": {
      "text/plain": "1"
     },
     "metadata": {},
     "execution_count": 66
    }
   ],
   "source": [
    "var2 = MyClass2()\n",
    "var2.m1()"
   ]
  },
  {
   "cell_type": "code",
   "execution_count": 67,
   "metadata": {},
   "outputs": [],
   "source": [
    "class Shape(metaclass=abc.ABCMeta):\n",
    "    def print_math_operations(self):\n",
    "        print(\"Math operations are: compute_perimeter, compute_area\")\n",
    "\n",
    "    @abc.abstractmethod\n",
    "    def print_properties(self):\n",
    "        return\n",
    "\n",
    "    @abc.abstractmethod\n",
    "    def compute_perimeter(self):\n",
    "        return\n",
    "\n",
    "    @abc.abstractmethod\n",
    "    def compute_area(self):\n",
    "        return\n",
    "\n",
    "import math\n",
    "\n",
    "class Circle(Shape):\n",
    "    def __init__(self, radius):\n",
    "        self.radius = radius\n",
    "\n",
    "    def print_properties(self):\n",
    "        print(\"Circle with radius {}\".format(self.radius))\n",
    "\n",
    "    def compute_perimeter(self):\n",
    "        return 2 * math.pi * self.radius\n",
    "\n",
    "    def compute_area(self):\n",
    "        return math.pi**2 * self.radius\n",
    "\n",
    "class Square(Shape):\n",
    "    def __init__(self, a):\n",
    "        self.a = a\n",
    "\n",
    "    def print_properties(self):\n",
    "        print(\"Square with length {}\".format(self.a))\n",
    "\n",
    "    def compute_perimeter(self):\n",
    "        return 4 * self.a\n",
    "\n",
    "    def compute_area(self):\n",
    "        return self.a**2"
   ]
  },
  {
   "cell_type": "code",
   "execution_count": 68,
   "metadata": {},
   "outputs": [
    {
     "output_type": "stream",
     "name": "stdout",
     "text": "19.739208802178716\nMath operations are: compute_perimeter, compute_area\n4\nMath operations are: compute_perimeter, compute_area\n"
    }
   ],
   "source": [
    "c = Circle(2)\n",
    "print(c.compute_area())\n",
    "c.print_math_operations()\n",
    "\n",
    "s = Square(2)\n",
    "print(s.compute_area())\n",
    "s.print_math_operations()"
   ]
  }
 ],
 "metadata": {
  "language_info": {
   "codemirror_mode": {
    "name": "ipython",
    "version": 3
   },
   "file_extension": ".py",
   "mimetype": "text/x-python",
   "name": "python",
   "nbconvert_exporter": "python",
   "pygments_lexer": "ipython3",
   "version": "3.8.1-final"
  },
  "orig_nbformat": 2,
  "kernelspec": {
   "name": "python38164bitpyudemyconda8c705f49a8e643418ce4b1ca64c8ab63",
   "display_name": "Python 3.8.1 64-bit ('pyUdemy': conda)"
  }
 },
 "nbformat": 4,
 "nbformat_minor": 2
}
