{
 "cells": [
  {
   "cell_type": "code",
   "execution_count": 7,
   "metadata": {},
   "outputs": [],
   "source": [
    "import abc\n",
    "import math"
   ]
  },
  {
   "cell_type": "code",
   "execution_count": 8,
   "metadata": {},
   "outputs": [],
   "source": [
    "class Base(metaclass=abc.ABCMeta):\n",
    "    @abc.abstractmethod\n",
    "    def m1(self):\n",
    "        return\n",
    "\n",
    "    @staticmethod\n",
    "    @abc.abstractmethod\n",
    "    def m2(self):\n",
    "        return\n",
    "\n",
    "    @classmethod\n",
    "    @abc.abstractmethod\n",
    "    def m3(self):\n",
    "        return"
   ]
  },
  {
   "cell_type": "code",
   "execution_count": 9,
   "metadata": {},
   "outputs": [],
   "source": [
    "#b = Base()"
   ]
  },
  {
   "cell_type": "code",
   "execution_count": 10,
   "metadata": {},
   "outputs": [],
   "source": [
    "class MyClass1(Base):\n",
    "    def m1(self):\n",
    "        return 'm1'\n",
    "\n",
    "    def m2(self):\n",
    "        return 'm1'"
   ]
  },
  {
   "cell_type": "code",
   "execution_count": 11,
   "metadata": {},
   "outputs": [],
   "source": [
    "class MyClass2(Base):\n",
    "    def m1(self):\n",
    "        return 1\n",
    "\n",
    "    def m2(self):\n",
    "        return 2\n",
    "\n",
    "    def m3(self):\n",
    "        return 3"
   ]
  },
  {
   "cell_type": "code",
   "execution_count": 12,
   "metadata": {},
   "outputs": [],
   "source": [
    "# var = MyClass1()\n",
    "# var.m1()"
   ]
  },
  {
   "cell_type": "code",
   "execution_count": 13,
   "metadata": {},
   "outputs": [
    {
     "data": {
      "text/plain": [
       "1"
      ]
     },
     "execution_count": 13,
     "metadata": {},
     "output_type": "execute_result"
    }
   ],
   "source": [
    "var2 = MyClass2()\n",
    "var2.m1()"
   ]
  },
  {
   "cell_type": "code",
   "execution_count": 14,
   "metadata": {},
   "outputs": [],
   "source": [
    "class Shape(metaclass=abc.ABCMeta):\n",
    "    def print_math_operations(self):\n",
    "        print(\"Math operations are: compute_perimeter, compute_area\")\n",
    "\n",
    "    @abc.abstractmethod\n",
    "    def print_properties(self):\n",
    "        return\n",
    "\n",
    "    @abc.abstractmethod\n",
    "    def compute_perimeter(self):\n",
    "        return\n",
    "\n",
    "    @abc.abstractmethod\n",
    "    def compute_area(self):\n",
    "        return"
   ]
  },
  {
   "cell_type": "code",
   "execution_count": 15,
   "metadata": {},
   "outputs": [],
   "source": [
    "class Circle(Shape):\n",
    "    def __init__(self, radius):\n",
    "        self.radius = radius\n",
    "\n",
    "    def print_properties(self):\n",
    "        print(\"Circle with radius {}\".format(self.radius))\n",
    "\n",
    "    def compute_perimeter(self):\n",
    "        return 2 * math.pi * self.radius\n",
    "\n",
    "    def compute_area(self):\n",
    "        return math.pi**2 * self.radius"
   ]
  },
  {
   "cell_type": "code",
   "execution_count": 16,
   "metadata": {},
   "outputs": [],
   "source": [
    "class Square(Shape):\n",
    "    def __init__(self, a):\n",
    "        self.a = a\n",
    "\n",
    "    def print_properties(self):\n",
    "        print(\"Square with length {}\".format(self.a))\n",
    "\n",
    "    def compute_perimeter(self):\n",
    "        return 4 * self.a\n",
    "\n",
    "    def compute_area(self):\n",
    "        return self.a**2"
   ]
  },
  {
   "cell_type": "code",
   "execution_count": 17,
   "metadata": {},
   "outputs": [
    {
     "name": "stdout",
     "output_type": "stream",
     "text": [
      "19.739208802178716\n",
      "Math operations are: compute_perimeter, compute_area\n",
      "4\n",
      "Math operations are: compute_perimeter, compute_area\n"
     ]
    }
   ],
   "source": [
    "c = Circle(2)\n",
    "print(c.compute_area())\n",
    "c.print_math_operations()\n",
    "\n",
    "s = Square(2)\n",
    "print(s.compute_area())\n",
    "s.print_math_operations()"
   ]
  }
 ],
 "metadata": {
  "interpreter": {
   "hash": "423c48e3256333a0e0252f1efeec30283ab6ba0213e3a05c32b0541c29f89950"
  },
  "kernelspec": {
   "display_name": "Python 3.8.1 64-bit ('pyUdemy': conda)",
   "language": "python",
   "name": "python3"
  },
  "language_info": {
   "codemirror_mode": {
    "name": "ipython",
    "version": 3
   },
   "file_extension": ".py",
   "mimetype": "text/x-python",
   "name": "python",
   "nbconvert_exporter": "python",
   "pygments_lexer": "ipython3",
   "version": "3.9.7"
  },
  "orig_nbformat": 2
 },
 "nbformat": 4,
 "nbformat_minor": 2
}
