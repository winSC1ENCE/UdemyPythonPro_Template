{
 "cells": [
  {
   "cell_type": "code",
   "execution_count": 1,
   "source": [
    "from threading import Thread\r\n",
    "import time"
   ],
   "outputs": [],
   "metadata": {}
  },
  {
   "cell_type": "markdown",
   "source": [
    "# Threads"
   ],
   "metadata": {}
  },
  {
   "cell_type": "code",
   "execution_count": 2,
   "source": [
    "def worker(sleep_time: float) -> None:\r\n",
    "    print(\"Start worker\")\r\n",
    "    time.sleep(sleep_time)\r\n",
    "    print(\"End worker\")"
   ],
   "outputs": [],
   "metadata": {}
  },
  {
   "cell_type": "code",
   "execution_count": 3,
   "source": [
    "t1 = Thread(target=worker, name=\"t1\", args=(2.0,))"
   ],
   "outputs": [],
   "metadata": {}
  },
  {
   "cell_type": "code",
   "execution_count": 4,
   "source": [
    "print(f\"Ident: {t1.ident}\")\r\n",
    "print(f\"Alive: {t1.is_alive()}\")\r\n",
    "print(f\"Name: {t1.name}\")"
   ],
   "outputs": [
    {
     "output_type": "stream",
     "name": "stdout",
     "text": [
      "Ident: None\n",
      "Alive: False\n",
      "Name: t1\n"
     ]
    }
   ],
   "metadata": {}
  },
  {
   "cell_type": "code",
   "execution_count": 5,
   "source": [
    "t1.start()\r\n",
    "\r\n",
    "print(f\"Ident: {t1.ident}\")\r\n",
    "print(f\"Alive: {t1.is_alive()}\")\r\n",
    "print(f\"Name: {t1.name}\")\r\n",
    "\r\n",
    "t1.join()"
   ],
   "outputs": [
    {
     "output_type": "stream",
     "name": "stdout",
     "text": [
      "Start worker\n",
      "Ident: 10476\n",
      "Alive: True\n",
      "Name: t1\n"
     ]
    }
   ],
   "metadata": {}
  }
 ],
 "metadata": {
  "orig_nbformat": 4,
  "language_info": {
   "name": "python",
   "version": "3.8.10",
   "mimetype": "text/x-python",
   "codemirror_mode": {
    "name": "ipython",
    "version": 3
   },
   "pygments_lexer": "ipython3",
   "nbconvert_exporter": "python",
   "file_extension": ".py"
  },
  "kernelspec": {
   "name": "python3",
   "display_name": "Python 3.8.10 64-bit ('tensorflow': conda)"
  },
  "interpreter": {
   "hash": "4eab73af86a999baa7bf0153340022c78a9cea3be6d1f049b3c9a17993d56d0b"
  }
 },
 "nbformat": 4,
 "nbformat_minor": 2
}