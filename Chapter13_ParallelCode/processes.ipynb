{
 "cells": [
  {
   "cell_type": "code",
   "execution_count": 1,
   "source": [
    "from multiprocessing import Process\r\n",
    "import multiprocessing as mp\r\n",
    "import time\r\n",
    "import math"
   ],
   "outputs": [],
   "metadata": {}
  },
  {
   "cell_type": "markdown",
   "source": [
    "# Processes"
   ],
   "metadata": {}
  },
  {
   "cell_type": "markdown",
   "source": [
    "<div style=\"font-size:1.5em\">\r\n",
    "\r\n",
    "The GIL wanted to protect shared data.\r\n",
    "\r\n",
    "Data is only chared between Threads but not Processes.\r\n",
    "\r\n",
    "Multi-Processing could speed up our program but:\r\n",
    "\r\n",
    "- Creating a process is slower than creating a thread\r\n",
    "- Each process has its on memory (copies are needed)\r\n",
    "\r\n",
    "</div>"
   ],
   "metadata": {}
  },
  {
   "cell_type": "code",
   "execution_count": 6,
   "source": [
    "numbers = [\r\n",
    "    1102023313711321,\r\n",
    "    2102023313556361,\r\n",
    "    2133132415198713,\r\n",
    "    2456241020233131,\r\n",
    "    2102124102331313,\r\n",
    "    2102023151513137,\r\n",
    "    2102023313112511,\r\n",
    "]"
   ],
   "outputs": [],
   "metadata": {}
  },
  {
   "cell_type": "code",
   "execution_count": 7,
   "source": [
    "def is_prime(n):\r\n",
    "    if n < 2:\r\n",
    "        return False\r\n",
    "    if n in (2, 3, 5, 7):\r\n",
    "        return True\r\n",
    "    if n % 2 == 0 or n % 3 == 0 or n % 5 == 0 or n % 7 == 0:\r\n",
    "        return False\r\n",
    "    upper_limit = int(math.sqrt(n)) + 1\r\n",
    "    for i in range(11, upper_limit, 2):\r\n",
    "        if n % i == 0:\r\n",
    "            return False\r\n",
    "    return True"
   ],
   "outputs": [],
   "metadata": {}
  },
  {
   "cell_type": "code",
   "execution_count": 8,
   "source": [
    "procceses = [Process(target=is_prime, args=(n,)) for n in numbers]"
   ],
   "outputs": [],
   "metadata": {}
  },
  {
   "cell_type": "code",
   "execution_count": 9,
   "source": [
    "start = time.perf_counter_ns()\r\n",
    "\r\n",
    "[p.start() for p in procceses]\r\n",
    "[p.join() for p in procceses]\r\n",
    "\r\n",
    "end = time.perf_counter_ns()\r\n",
    "print(f\"time: {(end - start) / 1000000.0} ms\")"
   ],
   "outputs": [
    {
     "output_type": "stream",
     "name": "stdout",
     "text": [
      "time: 336.5491 ms\n"
     ]
    }
   ],
   "metadata": {}
  },
  {
   "cell_type": "code",
   "execution_count": 10,
   "source": [
    "[p.close() for p in procceses]"
   ],
   "outputs": [
    {
     "output_type": "execute_result",
     "data": {
      "text/plain": [
       "[None, None, None, None, None, None, None]"
      ]
     },
     "metadata": {},
     "execution_count": 10
    }
   ],
   "metadata": {}
  }
 ],
 "metadata": {
  "orig_nbformat": 4,
  "language_info": {
   "name": "python",
   "version": "3.8.5",
   "mimetype": "text/x-python",
   "codemirror_mode": {
    "name": "ipython",
    "version": 3
   },
   "pygments_lexer": "ipython3",
   "nbconvert_exporter": "python",
   "file_extension": ".py"
  },
  "kernelspec": {
   "name": "python3",
   "display_name": "Python 3.8.5 64-bit ('pyUdemy': conda)"
  },
  "interpreter": {
   "hash": "992cbcc1320002087e26531265091d0ed3d2b125458f1ba3a138943fb8da78eb"
  }
 },
 "nbformat": 4,
 "nbformat_minor": 2
}