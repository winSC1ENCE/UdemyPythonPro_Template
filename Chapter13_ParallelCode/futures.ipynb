{
 "cells": [
  {
   "cell_type": "code",
   "execution_count": 52,
   "source": [
    "from concurrent.futures import ThreadPoolExecutor\r\n",
    "import time\r\n",
    "import math"
   ],
   "outputs": [],
   "metadata": {}
  },
  {
   "cell_type": "markdown",
   "source": [
    "# Futures"
   ],
   "metadata": {}
  },
  {
   "cell_type": "code",
   "execution_count": 53,
   "source": [
    "numbers = [\r\n",
    "    18014398777917439,\r\n",
    "    18014398777917439,\r\n",
    "    18014398777917439,\r\n",
    "    18014398777917439,\r\n",
    "    18014398777917439,\r\n",
    "    18014398777917439,\r\n",
    "    18014398777917439,\r\n",
    "    18014398777917439,\r\n",
    "    18014398777917439,\r\n",
    "    18014398777917439,\r\n",
    "    18014398777917439,\r\n",
    "    18014398777917439,\r\n",
    "]"
   ],
   "outputs": [],
   "metadata": {}
  },
  {
   "cell_type": "code",
   "execution_count": 54,
   "source": [
    "def is_prime(n):\r\n",
    "    if n < 2:\r\n",
    "        return False\r\n",
    "    if n in (2, 3, 5, 7):\r\n",
    "        return True\r\n",
    "    if n % 2 == 0 or n % 3 == 0 or n % 5 == 0 or n % 7 == 0:\r\n",
    "        return False\r\n",
    "    upper_limit = int(math.sqrt(n)) + 1\r\n",
    "    for i in range(11, upper_limit, 2):\r\n",
    "        if n % i == 0:\r\n",
    "            return False\r\n",
    "    return True"
   ],
   "outputs": [],
   "metadata": {}
  },
  {
   "cell_type": "code",
   "execution_count": 55,
   "source": [
    "start = time.perf_counter_ns()\r\n",
    "\r\n",
    "with ThreadPoolExecutor(max_workers=10) as ex:\r\n",
    "    for number, prime in zip(numbers, ex.map(is_prime, numbers)):\r\n",
    "        print(f'{number} is prime: {prime}')\r\n",
    "\r\n",
    "end = time.perf_counter_ns()\r\n",
    "print(f\"time: {(end - start) / 1000000.0} ms\")"
   ],
   "outputs": [
    {
     "output_type": "stream",
     "name": "stdout",
     "text": [
      "10657331232548839 is prime: True\n",
      "10963707205259 is prime: True\n",
      "15285151248481 is prime: True\n",
      "1111111111111111111 is prime: True\n",
      "70368760954879 is prime: True\n",
      "18014398777917439 is prime: True\n",
      "time: 36224.4556 ms\n"
     ]
    }
   ],
   "metadata": {}
  }
 ],
 "metadata": {
  "orig_nbformat": 4,
  "language_info": {
   "name": "python",
   "version": "3.8.10",
   "mimetype": "text/x-python",
   "codemirror_mode": {
    "name": "ipython",
    "version": 3
   },
   "pygments_lexer": "ipython3",
   "nbconvert_exporter": "python",
   "file_extension": ".py"
  },
  "kernelspec": {
   "name": "python3",
   "display_name": "Python 3.8.10 64-bit ('tensorflow': conda)"
  },
  "interpreter": {
   "hash": "4eab73af86a999baa7bf0153340022c78a9cea3be6d1f049b3c9a17993d56d0b"
  }
 },
 "nbformat": 4,
 "nbformat_minor": 2
}