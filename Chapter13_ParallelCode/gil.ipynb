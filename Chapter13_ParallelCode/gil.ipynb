{
 "cells": [
  {
   "cell_type": "code",
   "execution_count": 1,
   "source": [
    "from threading import Thread\r\n",
    "import time\r\n",
    "import math"
   ],
   "outputs": [],
   "metadata": {}
  },
  {
   "cell_type": "markdown",
   "source": [
    "# GIL: Global Interpreter Lock"
   ],
   "metadata": {}
  },
  {
   "cell_type": "code",
   "execution_count": 2,
   "source": [
    "numbers = [\r\n",
    "    1102023313711321,\r\n",
    "    2102023313556361,\r\n",
    "    2133132415198713,\r\n",
    "    2456241020233131,\r\n",
    "    2102124102331313,\r\n",
    "    2102023151513137,\r\n",
    "    2102023313112511,\r\n",
    "]"
   ],
   "outputs": [],
   "metadata": {}
  },
  {
   "cell_type": "code",
   "execution_count": 3,
   "source": [
    "def is_prime(n):\r\n",
    "    if n < 2:\r\n",
    "        return False\r\n",
    "    if n in (2, 3, 5, 7):\r\n",
    "        return True\r\n",
    "    if n % 2 == 0 or n % 3 == 0 or n % 5 == 0 or n % 7 == 0:\r\n",
    "        return False\r\n",
    "    upper_limit = int(math.sqrt(n)) + 1\r\n",
    "    for i in range(11, upper_limit, 2):\r\n",
    "        if n % i == 0:\r\n",
    "            return False\r\n",
    "    return True"
   ],
   "outputs": [],
   "metadata": {}
  },
  {
   "cell_type": "code",
   "execution_count": 4,
   "source": [
    "start = time.perf_counter_ns()\r\n",
    "\r\n",
    "for number in numbers:\r\n",
    "    is_prime(number)\r\n",
    "\r\n",
    "end = time.perf_counter_ns()\r\n",
    "print(f\"time: {(end - start) / 1000000.0} ms\")"
   ],
   "outputs": [],
   "metadata": {}
  },
  {
   "cell_type": "code",
   "execution_count": null,
   "source": [
    "threads = [Thread(target=is_prime, args=(number,)) for number in numbers]"
   ],
   "outputs": [],
   "metadata": {}
  },
  {
   "cell_type": "code",
   "execution_count": null,
   "source": [
    "start = time.perf_counter_ns()\r\n",
    "\r\n",
    "[t.start() for t in threads]\r\n",
    "[t.join() for t in threads]\r\n",
    "\r\n",
    "end = time.perf_counter_ns()\r\n",
    "print(f\"time: {(end - start) / 1000000.0} ms\")"
   ],
   "outputs": [
    {
     "output_type": "stream",
     "name": "stdout",
     "text": [
      "time: 957.6159 ms\n"
     ]
    }
   ],
   "metadata": {}
  }
 ],
 "metadata": {
  "orig_nbformat": 4,
  "language_info": {
   "name": "python",
   "version": "3.8.10",
   "mimetype": "text/x-python",
   "codemirror_mode": {
    "name": "ipython",
    "version": 3
   },
   "pygments_lexer": "ipython3",
   "nbconvert_exporter": "python",
   "file_extension": ".py"
  },
  "kernelspec": {
   "name": "python3",
   "display_name": "Python 3.8.10 64-bit ('tensorflow': conda)"
  },
  "interpreter": {
   "hash": "4eab73af86a999baa7bf0153340022c78a9cea3be6d1f049b3c9a17993d56d0b"
  }
 },
 "nbformat": 4,
 "nbformat_minor": 2
}