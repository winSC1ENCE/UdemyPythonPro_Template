{
 "nbformat": 4,
 "nbformat_minor": 2,
 "metadata": {
  "language_info": {
   "name": "python",
   "version": "3.8.10",
   "mimetype": "text/x-python",
   "codemirror_mode": {
    "name": "ipython",
    "version": 3
   },
   "pygments_lexer": "ipython3",
   "nbconvert_exporter": "python",
   "file_extension": ".py"
  },
  "orig_nbformat": 2,
  "file_extension": ".py",
  "mimetype": "text/x-python",
  "name": "python",
  "npconvert_exporter": "python",
  "pygments_lexer": "ipython3",
  "version": 3,
  "kernelspec": {
   "name": "python3",
   "display_name": "Python 3.8.10 64-bit"
  },
  "interpreter": {
   "hash": "4eab73af86a999baa7bf0153340022c78a9cea3be6d1f049b3c9a17993d56d0b"
  }
 },
 "cells": [
  {
   "cell_type": "code",
   "execution_count": 1,
   "source": [
    "def memory_address(var):\r\n",
    "    return hex(id(var) % 0xFFFFF)\r\n",
    "\r\n",
    "def print_list_info(lst):\r\n",
    "    print(f\"List address: {memory_address(lst)}\")\r\n",
    "    for i in range(len(lst)):\r\n",
    "        print(f\"Lst[{i}]: {memory_address(lst[i])}\")\r\n",
    "        if isinstance(lst[i], list):\r\n",
    "            for j in range(len(lst[i])):\r\n",
    "                print(f\"Lst[{i},{j}]: {memory_address(lst[i][j])}\")\r\n",
    "    print(\"\\n\")"
   ],
   "outputs": [],
   "metadata": {}
  },
  {
   "cell_type": "markdown",
   "source": [
    "# Lists"
   ],
   "metadata": {}
  },
  {
   "cell_type": "code",
   "execution_count": 2,
   "source": [
    "my_list = [1, 2, 3]\r\n",
    "print(my_list)\r\n",
    "print_list_info(my_list)"
   ],
   "outputs": [
    {
     "output_type": "stream",
     "name": "stdout",
     "text": [
      "[1, 2, 3]\n",
      "List address: 0x6f51b\n",
      "Lst[0]: 0x4ebc7\n",
      "Lst[1]: 0x4ebe7\n",
      "Lst[2]: 0x4ec07\n",
      "\n",
      "\n"
     ]
    }
   ],
   "metadata": {}
  },
  {
   "cell_type": "code",
   "execution_count": 3,
   "source": [
    "my_list2 = [[1, 2], [3]]\r\n",
    "print(my_list2)\r\n",
    "print_list_info(my_list2)"
   ],
   "outputs": [
    {
     "output_type": "stream",
     "name": "stdout",
     "text": [
      "[[1, 2], [3]]\n",
      "List address: 0x658ad\n",
      "Lst[0]: 0x50d2d\n",
      "Lst[0,0]: 0x4ebc7\n",
      "Lst[0,1]: 0x4ebe7\n",
      "Lst[1]: 0x6e7db\n",
      "Lst[1,0]: 0x4ec07\n",
      "\n",
      "\n"
     ]
    }
   ],
   "metadata": {}
  },
  {
   "cell_type": "code",
   "execution_count": 4,
   "source": [
    "my_list2[1] = [3, 6]\r\n",
    "print(my_list2)\r\n",
    "print_list_info(my_list2)"
   ],
   "outputs": [
    {
     "output_type": "stream",
     "name": "stdout",
     "text": [
      "[[1, 2], [3, 6]]\n",
      "List address: 0x658ad\n",
      "Lst[0]: 0x50d2d\n",
      "Lst[0,0]: 0x4ebc7\n",
      "Lst[0,1]: 0x4ebe7\n",
      "Lst[1]: 0xb4c9b\n",
      "Lst[1,0]: 0x4ec07\n",
      "Lst[1,1]: 0x4ec67\n",
      "\n",
      "\n"
     ]
    }
   ],
   "metadata": {}
  }
 ]
}