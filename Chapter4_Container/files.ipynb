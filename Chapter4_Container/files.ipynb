{
 "cells": [
  {
   "cell_type": "code",
   "execution_count": 46,
   "metadata": {},
   "outputs": [],
   "source": [
    "import os\n",
    "from pathlib import Path"
   ]
  },
  {
   "cell_type": "markdown",
   "metadata": {},
   "source": [
    "# Filepaths"
   ]
  },
  {
   "cell_type": "code",
   "execution_count": 47,
   "metadata": {},
   "outputs": [
    {
     "name": "stdout",
     "output_type": "stream",
     "text": [
      "<class 'str'>\n",
      "C:\\Users\\Jan\\OneDrive\\_Coding\\UdemyPythonPro\\Chapter4_Container\\user_data.txt\n"
     ]
    }
   ],
   "source": [
    "project_path = os.path.abspath(\n",
    "    \"C:/Users/Jan/OneDrive/_Coding/UdemyPythonPro/\"\n",
    ")\n",
    "file_path = os.path.join(\n",
    "    project_path,\n",
    "    \"Chapter4_Container\",\n",
    "    \"user_data.txt\"\n",
    ")\n",
    "\n",
    "print(type(file_path))\n",
    "print(file_path)"
   ]
  },
  {
   "cell_type": "code",
   "execution_count": 48,
   "metadata": {},
   "outputs": [
    {
     "name": "stdout",
     "output_type": "stream",
     "text": [
      "c:\\Users\\Jan\\OneDrive\\_Coding\\UdemyPythonPro\n"
     ]
    }
   ],
   "source": [
    "project_path = os.path.abspath(\n",
    "    os.path.pardir,\n",
    ")\n",
    "print(project_path)"
   ]
  },
  {
   "cell_type": "code",
   "execution_count": 49,
   "metadata": {},
   "outputs": [
    {
     "name": "stdout",
     "output_type": "stream",
     "text": [
      "['absolute', 'anchor', 'chmod', 'cwd', 'drive', 'exists', 'expanduser', 'glob', 'group', 'home', 'iterdir', 'joinpath', 'lchmod', 'lstat', 'match', 'mkdir', 'name', 'open', 'owner', 'parent', 'parents', 'parts', 'readlink', 'rename', 'replace', 'resolve', 'rglob', 'rmdir', 'root', 'samefile', 'stat', 'stem', 'suffix', 'suffixes', 'touch', 'unlink']\n",
      "<class 'pathlib.WindowsPath'>\n",
      "C:\\Users\\Jan\\OneDrive\\_Coding\\UdemyPythonPro\\Chapter4_Container\\user_data.txt\n"
     ]
    }
   ],
   "source": [
    "p = Path(file_path)\n",
    "\n",
    "print([d for d in dir(p) if '_' not in d])\n",
    "print(type(p))\n",
    "print(p)"
   ]
  },
  {
   "cell_type": "code",
   "execution_count": 55,
   "metadata": {},
   "outputs": [
    {
     "name": "stdout",
     "output_type": "stream",
     "text": [
      "C:\\Users\\Jan\\OneDrive\\_Coding\\UdemyPythonPro\\Chapter4_Container\n",
      "C:\\Users\\Jan\\OneDrive\\_Coding\\UdemyPythonPro\\Chapter4_Container\\user_data.txt\n",
      "False\n",
      "True\n"
     ]
    }
   ],
   "source": [
    "print(p.parent)\n",
    "print(p.absolute())\n",
    "print(p.is_dir())\n",
    "print(p.is_file())"
   ]
  },
  {
   "cell_type": "markdown",
   "metadata": {},
   "source": [
    "# Files"
   ]
  },
  {
   "cell_type": "markdown",
   "metadata": {},
   "source": [
    "Context managers provide __enter__() and __exit__() methods that are invoked on entry to and exit from the body of the with statement."
   ]
  },
  {
   "cell_type": "code",
   "execution_count": 51,
   "metadata": {},
   "outputs": [
    {
     "name": "stdout",
     "output_type": "stream",
     "text": [
      "False\n",
      "True\n",
      "<_io.TextIOWrapper name='C:\\\\Users\\\\Jan\\\\OneDrive\\\\_Coding\\\\UdemyPythonPro\\\\Chapter4_Container\\\\user_data.txt' mode='r' encoding='cp1252'> <class '_io.TextIOWrapper'>\n",
      "['Hello my name is Jan.\\n', 'Nice to meet you.\\n', 'I am currently 26 years old.\\n']\n",
      "['Hello my name is Jan.', 'Nice to meet you.', 'I am currently 26 years old.']\n"
     ]
    }
   ],
   "source": [
    "with open(file_path, \"r\") as f:\n",
    "    content = f.readlines()\n",
    "    print(f.closed)\n",
    "\n",
    "print(f.closed)\n",
    "print(f, type(f))\n",
    "\n",
    "print(content)\n",
    "for idx, line in enumerate(content):\n",
    "    content[idx] = line.replace(\"\\n\", \"\")\n",
    "print(content)"
   ]
  }
 ],
 "metadata": {
  "file_extension": ".py",
  "interpreter": {
   "hash": "f7005c152070cabaaf593843feaa8c4a4a04ad569523413e5d5955ceb49c894d"
  },
  "kernelspec": {
   "display_name": "Python 3.10.4 ('pyData')",
   "language": "python",
   "name": "python3"
  },
  "language_info": {
   "codemirror_mode": {
    "name": "ipython",
    "version": 3
   },
   "file_extension": ".py",
   "mimetype": "text/x-python",
   "name": "python",
   "nbconvert_exporter": "python",
   "pygments_lexer": "ipython3",
   "version": "3.10.4"
  },
  "mimetype": "text/x-python",
  "name": "python",
  "npconvert_exporter": "python",
  "orig_nbformat": 2,
  "pygments_lexer": "ipython3",
  "version": 3
 },
 "nbformat": 4,
 "nbformat_minor": 2
}
