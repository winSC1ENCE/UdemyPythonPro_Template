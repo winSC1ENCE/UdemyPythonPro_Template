{
 "nbformat": 4,
 "nbformat_minor": 2,
 "metadata": {
  "language_info": {
   "name": "python",
   "version": "3.8.10",
   "mimetype": "text/x-python",
   "codemirror_mode": {
    "name": "ipython",
    "version": 3
   },
   "pygments_lexer": "ipython3",
   "nbconvert_exporter": "python",
   "file_extension": ".py"
  },
  "orig_nbformat": 2,
  "file_extension": ".py",
  "mimetype": "text/x-python",
  "name": "python",
  "npconvert_exporter": "python",
  "pygments_lexer": "ipython3",
  "version": 3,
  "kernelspec": {
   "name": "python3",
   "display_name": "Python 3.8.10 64-bit"
  },
  "interpreter": {
   "hash": "4eab73af86a999baa7bf0153340022c78a9cea3be6d1f049b3c9a17993d56d0b"
  }
 },
 "cells": [
  {
   "cell_type": "code",
   "execution_count": 1,
   "source": [
    "def memory_address(var):\r\n",
    "    return hex(id(var) % 0xFFFFF)\r\n",
    "\r\n",
    "def print_set_info(st):\r\n",
    "    print(f\"Set address: {memory_address(st)}\")\r\n",
    "    for val in st:\r\n",
    "        print(f\"Val: {memory_address(val)}\")\r\n",
    "    print(\"\\n\")"
   ],
   "outputs": [],
   "metadata": {}
  },
  {
   "cell_type": "markdown",
   "source": [
    "# Set"
   ],
   "metadata": {}
  },
  {
   "cell_type": "code",
   "execution_count": 2,
   "source": [
    "my_set1 = {1, 2, 3, 1}\r\n",
    "\r\n",
    "print(my_set1)\r\n",
    "print_set_info(my_set1)"
   ],
   "outputs": [
    {
     "output_type": "stream",
     "name": "stdout",
     "text": [
      "{1, 2, 3}\n",
      "Set address: 0xcde5f\n",
      "Val: 0x9ebcf\n",
      "Val: 0x9ebef\n",
      "Val: 0x9ec0f\n",
      "\n",
      "\n"
     ]
    }
   ],
   "metadata": {}
  },
  {
   "cell_type": "code",
   "execution_count": 3,
   "source": [
    "try:\r\n",
    "    my_set2 = {1, 2, [3]}\r\n",
    "except TypeError as e:\r\n",
    "    print(e)"
   ],
   "outputs": [
    {
     "output_type": "stream",
     "name": "stdout",
     "text": [
      "unhashable type: 'list'\n"
     ]
    }
   ],
   "metadata": {}
  }
 ]
}