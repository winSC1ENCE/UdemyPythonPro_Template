{
 "cells": [
  {
   "cell_type": "code",
   "execution_count": 11,
   "metadata": {},
   "outputs": [],
   "source": [
    "def memory_address(var):\n",
    "    return hex(id(var) % 0xFFFFFFF)\n",
    "\n",
    "def print_string_info(st):\n",
    "    print(f\"String address: {memory_address(st)}\")\n",
    "    for val in st:\n",
    "        print(f\"Val: {memory_address(val)}\")\n",
    "    print(\"\\n\")"
   ]
  },
  {
   "cell_type": "markdown",
   "metadata": {},
   "source": [
    "# Strings"
   ]
  },
  {
   "cell_type": "code",
   "execution_count": 12,
   "metadata": {},
   "outputs": [
    {
     "name": "stdout",
     "output_type": "stream",
     "text": [
      "Jann\n",
      "String address: 0x25fd234\n",
      "Val: 0xe0ab733\n",
      "Val: 0xdc683b3\n",
      "Val: 0xdc56873\n",
      "Val: 0xdc56873\n",
      "\n",
      "\n"
     ]
    }
   ],
   "source": [
    "my_name = 'Jann'\n",
    "\n",
    "print(my_name)\n",
    "print_string_info(my_name)"
   ]
  },
  {
   "cell_type": "code",
   "execution_count": 13,
   "metadata": {},
   "outputs": [
    {
     "name": "stdout",
     "output_type": "stream",
     "text": [
      "Ja\n",
      "String address: 0x25a37f4\n",
      "Val: 0xe0ab733\n",
      "Val: 0xdc683b3\n",
      "\n",
      "\n"
     ]
    }
   ],
   "source": [
    "my_name = my_name[:2]\n",
    "\n",
    "print(my_name)\n",
    "print_string_info(my_name)"
   ]
  },
  {
   "cell_type": "code",
   "execution_count": 14,
   "metadata": {},
   "outputs": [
    {
     "name": "stdout",
     "output_type": "stream",
     "text": [
      "'str' object does not support item assignment\n",
      "Ja\n",
      "String address: 0x25a37f4\n",
      "Val: 0xe0ab733\n",
      "Val: 0xdc683b3\n",
      "\n",
      "\n"
     ]
    }
   ],
   "source": [
    "try:\n",
    "    my_name[0] = 'a'\n",
    "except TypeError as e:\n",
    "    print(e)\n",
    "\n",
    "print(my_name)\n",
    "print_string_info(my_name)"
   ]
  },
  {
   "cell_type": "code",
   "execution_count": 15,
   "metadata": {},
   "outputs": [
    {
     "name": "stdout",
     "output_type": "stream",
     "text": [
      "aa\n",
      "String address: 0x2777536\n",
      "Val: 0xdc683b3\n",
      "Val: 0xdc683b3\n",
      "\n",
      "\n"
     ]
    }
   ],
   "source": [
    "my_name = 'a' +  my_name[1:]\n",
    "\n",
    "print(my_name)\n",
    "print_string_info(my_name)"
   ]
  },
  {
   "cell_type": "code",
   "execution_count": 16,
   "metadata": {},
   "outputs": [
    {
     "name": "stdout",
     "output_type": "stream",
     "text": [
      "bb\n"
     ]
    }
   ],
   "source": [
    "my_name2 = my_name.replace(\"a\", \"b\")\n",
    "print(my_name2)"
   ]
  }
 ],
 "metadata": {
  "file_extension": ".py",
  "interpreter": {
   "hash": "f7005c152070cabaaf593843feaa8c4a4a04ad569523413e5d5955ceb49c894d"
  },
  "kernelspec": {
   "display_name": "Python 3.10.4 ('pyData')",
   "language": "python",
   "name": "python3"
  },
  "language_info": {
   "codemirror_mode": {
    "name": "ipython",
    "version": 3
   },
   "file_extension": ".py",
   "mimetype": "text/x-python",
   "name": "python",
   "nbconvert_exporter": "python",
   "pygments_lexer": "ipython3",
   "version": "3.10.4"
  },
  "mimetype": "text/x-python",
  "name": "python",
  "npconvert_exporter": "python",
  "orig_nbformat": 2,
  "pygments_lexer": "ipython3",
  "version": 3
 },
 "nbformat": 4,
 "nbformat_minor": 2
}
