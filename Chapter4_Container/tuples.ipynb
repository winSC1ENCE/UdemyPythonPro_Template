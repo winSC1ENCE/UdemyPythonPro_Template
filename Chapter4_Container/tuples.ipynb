{
 "cells": [
  {
   "cell_type": "code",
   "execution_count": 38,
   "metadata": {},
   "outputs": [],
   "source": [
    "def memory_address(var):\n",
    "    return hex(id(var) % 0xFFFFF)\n",
    "\n",
    "def print_tuple_info(tpl):\n",
    "    print(f\"Tuple address: {memory_address(tpl)}\")\n",
    "    for val in tpl:\n",
    "        print(f\"Val: {memory_address(val)}\")\n",
    "    print(\"\\n\")"
   ]
  },
  {
   "cell_type": "markdown",
   "metadata": {},
   "source": [
    "# Tuple"
   ]
  },
  {
   "cell_type": "markdown",
   "metadata": {},
   "source": [
    "Tuple is an Immutable Type  \n",
    "List is a Mutable Type  "
   ]
  },
  {
   "cell_type": "code",
   "execution_count": 39,
   "metadata": {},
   "outputs": [
    {
     "name": "stdout",
     "output_type": "stream",
     "text": [
      "(10, 20, 30)\n",
      "Tuple address: 0x87d83\n",
      "Val: 0x5556\n",
      "Val: 0x5696\n",
      "Val: 0x57d6\n",
      "\n",
      "\n"
     ]
    }
   ],
   "source": [
    "my_tuple2 = (10, 20, 30)\n",
    "print(my_tuple2)\n",
    "print_tuple_info(my_tuple2)"
   ]
  },
  {
   "cell_type": "code",
   "execution_count": 40,
   "metadata": {},
   "outputs": [
    {
     "name": "stdout",
     "output_type": "stream",
     "text": [
      "'tuple' object does not support item assignment\n"
     ]
    }
   ],
   "source": [
    "try:\n",
    "    my_tuple2[0] = 10\n",
    "except TypeError as e:\n",
    "    print(e)"
   ]
  },
  {
   "cell_type": "code",
   "execution_count": 41,
   "metadata": {},
   "outputs": [
    {
     "name": "stdout",
     "output_type": "stream",
     "text": [
      "(10, 20, [1])\n",
      "Tuple address: 0x87943\n",
      "Val: 0x5556\n",
      "Val: 0x5696\n",
      "Val: 0x79055\n",
      "\n",
      "\n"
     ]
    }
   ],
   "source": [
    "my_list = [1]\n",
    "my_tuple3 = (10, 20, my_list)\n",
    "\n",
    "print(my_tuple3)\n",
    "print_tuple_info(my_tuple3)"
   ]
  },
  {
   "cell_type": "code",
   "execution_count": 42,
   "metadata": {},
   "outputs": [],
   "source": [
    "my_tuple3[2].append(2)"
   ]
  },
  {
   "cell_type": "code",
   "execution_count": 43,
   "metadata": {},
   "outputs": [
    {
     "name": "stdout",
     "output_type": "stream",
     "text": [
      "(10, 20, [1, 2])\n",
      "Tuple address: 0x87943\n",
      "Val: 0x5556\n",
      "Val: 0x5696\n",
      "Val: 0x79055\n",
      "\n",
      "\n"
     ]
    }
   ],
   "source": [
    "print(my_tuple3)\n",
    "print_tuple_info(my_tuple3)"
   ]
  },
  {
   "cell_type": "markdown",
   "metadata": {},
   "source": [
    "### Tuple Packing & Unpacking"
   ]
  },
  {
   "cell_type": "code",
   "execution_count": 44,
   "metadata": {},
   "outputs": [],
   "source": [
    "def function():\n",
    "    return (10, 42.0, True, None)"
   ]
  },
  {
   "cell_type": "code",
   "execution_count": 45,
   "metadata": {},
   "outputs": [
    {
     "name": "stdout",
     "output_type": "stream",
     "text": [
      "(10, 42.0, True, None)\n"
     ]
    }
   ],
   "source": [
    "tpl = function()\n",
    "print(tpl)"
   ]
  },
  {
   "cell_type": "code",
   "execution_count": 46,
   "metadata": {},
   "outputs": [],
   "source": [
    "my_int, my_float, my_bool, my_none = tpl"
   ]
  },
  {
   "cell_type": "code",
   "execution_count": 47,
   "metadata": {},
   "outputs": [],
   "source": [
    "my_int2, _, my_bool2, _ = tpl"
   ]
  },
  {
   "cell_type": "code",
   "execution_count": 49,
   "metadata": {},
   "outputs": [
    {
     "name": "stdout",
     "output_type": "stream",
     "text": [
      "[True, None]\n"
     ]
    }
   ],
   "source": [
    "my_int3, my_float3, *packed_tpl = tpl\n",
    "print(packed_tpl)"
   ]
  }
 ],
 "metadata": {
  "file_extension": ".py",
  "interpreter": {
   "hash": "4eab73af86a999baa7bf0153340022c78a9cea3be6d1f049b3c9a17993d56d0b"
  },
  "kernelspec": {
   "display_name": "Python 3.8.10 64-bit",
   "name": "python3"
  },
  "language_info": {
   "codemirror_mode": {
    "name": "ipython",
    "version": 3
   },
   "file_extension": ".py",
   "mimetype": "text/x-python",
   "name": "python",
   "nbconvert_exporter": "python",
   "pygments_lexer": "ipython3",
   "version": "3.9.7"
  },
  "mimetype": "text/x-python",
  "name": "python",
  "npconvert_exporter": "python",
  "orig_nbformat": 2,
  "pygments_lexer": "ipython3",
  "version": 3
 },
 "nbformat": 4,
 "nbformat_minor": 2
}
