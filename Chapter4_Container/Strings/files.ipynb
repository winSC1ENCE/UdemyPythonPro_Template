{
 "nbformat": 4,
 "nbformat_minor": 2,
 "metadata": {
  "language_info": {
   "name": "python",
   "version": "3.8.10",
   "mimetype": "text/x-python",
   "codemirror_mode": {
    "name": "ipython",
    "version": 3
   },
   "pygments_lexer": "ipython3",
   "nbconvert_exporter": "python",
   "file_extension": ".py"
  },
  "orig_nbformat": 2,
  "file_extension": ".py",
  "mimetype": "text/x-python",
  "name": "python",
  "npconvert_exporter": "python",
  "pygments_lexer": "ipython3",
  "version": 3,
  "kernelspec": {
   "name": "python3",
   "display_name": "Python 3.8.10 64-bit ('tensorflow': conda)"
  },
  "interpreter": {
   "hash": "4eab73af86a999baa7bf0153340022c78a9cea3be6d1f049b3c9a17993d56d0b"
  }
 },
 "cells": [
  {
   "cell_type": "code",
   "execution_count": 49,
   "source": [
    "import os\r\n",
    "from pathlib import Path"
   ],
   "outputs": [],
   "metadata": {}
  },
  {
   "cell_type": "markdown",
   "source": [
    "# Filepaths"
   ],
   "metadata": {}
  },
  {
   "cell_type": "code",
   "execution_count": 50,
   "source": [
    "project_path = os.path.abspath(\"C:/Users/Jan/Dropbox/_Coding/UdemyPythonPro/\")\r\n",
    "file_path = os.path.join(project_path, \"Chapter4_Container\", \"Strings\", \"user_data.txt\")\r\n",
    "\r\n",
    "print(type(file_path))\r\n",
    "print(file_path)"
   ],
   "outputs": [
    {
     "output_type": "stream",
     "name": "stdout",
     "text": [
      "<class 'str'>\n",
      "C:\\Users\\Jan\\Dropbox\\_Coding\\UdemyPythonPro\\Chapter4_Container\\Strings\\user_data.txt\n"
     ]
    }
   ],
   "metadata": {}
  },
  {
   "cell_type": "code",
   "execution_count": 51,
   "source": [
    "p = Path(file_path)\r\n",
    "\r\n",
    "print([d for d in dir(p) if '_' not in d])\r\n",
    "print(type(p))\r\n",
    "print(p)"
   ],
   "outputs": [
    {
     "output_type": "stream",
     "name": "stdout",
     "text": [
      "['absolute', 'anchor', 'chmod', 'cwd', 'drive', 'exists', 'expanduser', 'glob', 'group', 'home', 'iterdir', 'joinpath', 'lchmod', 'lstat', 'match', 'mkdir', 'name', 'open', 'owner', 'parent', 'parents', 'parts', 'rename', 'replace', 'resolve', 'rglob', 'rmdir', 'root', 'samefile', 'stat', 'stem', 'suffix', 'suffixes', 'touch', 'unlink']\n",
      "<class 'pathlib.WindowsPath'>\n",
      "C:\\Users\\Jan\\Dropbox\\_Coding\\UdemyPythonPro\\Chapter4_Container\\Strings\\user_data.txt\n"
     ]
    }
   ],
   "metadata": {}
  },
  {
   "cell_type": "code",
   "execution_count": 52,
   "source": [
    "print(p.parent)\r\n",
    "print(p.absolute())\r\n",
    "print(p.is_dir())\r\n",
    "print(p.is_file())"
   ],
   "outputs": [
    {
     "output_type": "stream",
     "name": "stdout",
     "text": [
      "C:\\Users\\Jan\\Dropbox\\_Coding\\UdemyPythonPro\\Chapter4_Container\\Strings\n",
      "C:\\Users\\Jan\\Dropbox\\_Coding\\UdemyPythonPro\\Chapter4_Container\\Strings\\user_data.txt\n",
      "False\n",
      "True\n"
     ]
    }
   ],
   "metadata": {}
  },
  {
   "cell_type": "markdown",
   "source": [
    "# Files"
   ],
   "metadata": {}
  },
  {
   "cell_type": "markdown",
   "source": [
    "<div style=\"font-size:1.5em;\">\r\n",
    "\r\n",
    "Context managers provide __enter__() and __exit__() methods that are invoked on entry to and exit from the body of the with statement.\r\n",
    "\r\n",
    "</div>"
   ],
   "metadata": {}
  },
  {
   "cell_type": "code",
   "execution_count": 53,
   "source": [
    "with open(file_path, \"r\") as f:\r\n",
    "    content = f.readlines()\r\n",
    "    print(f.closed)\r\n",
    "\r\n",
    "print(f.closed)\r\n",
    "print(f, type(f))\r\n",
    "\r\n",
    "print(content)\r\n",
    "for idx, line in enumerate(content):\r\n",
    "    content[idx] = line.replace(\"\\n\", \"\")\r\n",
    "print(content)"
   ],
   "outputs": [
    {
     "output_type": "stream",
     "name": "stdout",
     "text": [
      "True\n",
      "<_io.TextIOWrapper name='C:\\\\Users\\\\Jan\\\\Dropbox\\\\_Coding\\\\UdemyPythonPro\\\\Chapter4_Container\\\\Strings\\\\user_data.txt' mode='r' encoding='cp1252'> <class '_io.TextIOWrapper'>\n",
      "['Hello my name is Jan.\\n', 'Nice to meet you.\\n', 'I am currently 26 years old.\\n']\n",
      "['Hello my name is Jan.', 'Nice to meet you.', 'I am currently 26 years old.']\n"
     ]
    }
   ],
   "metadata": {}
  }
 ]
}