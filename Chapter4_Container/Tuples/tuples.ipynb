{
 "nbformat": 4,
 "nbformat_minor": 2,
 "metadata": {
  "language_info": {
   "name": "python",
   "version": "3.8.10",
   "mimetype": "text/x-python",
   "codemirror_mode": {
    "name": "ipython",
    "version": 3
   },
   "pygments_lexer": "ipython3",
   "nbconvert_exporter": "python",
   "file_extension": ".py"
  },
  "orig_nbformat": 2,
  "file_extension": ".py",
  "mimetype": "text/x-python",
  "name": "python",
  "npconvert_exporter": "python",
  "pygments_lexer": "ipython3",
  "version": 3,
  "kernelspec": {
   "name": "python3",
   "display_name": "Python 3.8.10 64-bit"
  },
  "interpreter": {
   "hash": "4eab73af86a999baa7bf0153340022c78a9cea3be6d1f049b3c9a17993d56d0b"
  }
 },
 "cells": [
  {
   "cell_type": "code",
   "execution_count": 1,
   "source": [
    "def memory_address(var):\r\n",
    "    return hex(id(var) % 0xFFFFF)\r\n",
    "\r\n",
    "def print_tuple_info(tpl):\r\n",
    "    print(f\"Tuple address: {memory_address(tpl)}\")\r\n",
    "    for val in tpl:\r\n",
    "        print(f\"Val: {memory_address(val)}\")\r\n",
    "    print(\"\\n\")"
   ],
   "outputs": [],
   "metadata": {}
  },
  {
   "cell_type": "markdown",
   "source": [
    "# Tuple"
   ],
   "metadata": {}
  },
  {
   "cell_type": "markdown",
   "source": [
    "<div style=\"font-size:1.5em;\">\r\n",
    "\r\n",
    "Tuple: Immutable Type\r\n",
    "\r\n",
    "List: Mutable Type\r\n",
    "\r\n",
    "</div>"
   ],
   "metadata": {}
  },
  {
   "cell_type": "code",
   "execution_count": 2,
   "source": [
    "my_tuple1 = tuple()\r\n",
    "print(my_tuple1)\r\n",
    "print_tuple_info(my_tuple1)"
   ],
   "outputs": [
    {
     "output_type": "stream",
     "name": "stdout",
     "text": [
      "()\n",
      "Tuple address: 0x578b1\n",
      "\n",
      "\n"
     ]
    }
   ],
   "metadata": {}
  },
  {
   "cell_type": "code",
   "execution_count": 3,
   "source": [
    "my_tuple2 = (10, 20, 30)\r\n",
    "print(my_tuple2)\r\n",
    "print_tuple_info(my_tuple2)"
   ],
   "outputs": [
    {
     "output_type": "stream",
     "name": "stdout",
     "text": [
      "(10, 20, 30)\n",
      "Tuple address: 0xbe674\n",
      "Val: 0x4ece7\n",
      "Val: 0x4ee27\n",
      "Val: 0x4ef67\n",
      "\n",
      "\n"
     ]
    }
   ],
   "metadata": {}
  },
  {
   "cell_type": "code",
   "execution_count": 4,
   "source": [
    "try:\r\n",
    "    my_tuple2[0] = 10\r\n",
    "except TypeError as e:\r\n",
    "    print(e)"
   ],
   "outputs": [
    {
     "output_type": "stream",
     "name": "stdout",
     "text": [
      "'tuple' object does not support item assignment\n"
     ]
    }
   ],
   "metadata": {}
  },
  {
   "cell_type": "code",
   "execution_count": 5,
   "source": [
    "my_list = [1]\r\n",
    "my_tuple3 = (10, 20, my_list)\r\n",
    "\r\n",
    "print(my_tuple3)\r\n",
    "print_tuple_info(my_tuple3)"
   ],
   "outputs": [
    {
     "output_type": "stream",
     "name": "stdout",
     "text": [
      "(10, 20, [1])\n",
      "Tuple address: 0x36667\n",
      "Val: 0x4ece7\n",
      "Val: 0x4ee27\n",
      "Val: 0x3efb9\n",
      "\n",
      "\n"
     ]
    }
   ],
   "metadata": {}
  },
  {
   "cell_type": "code",
   "execution_count": 6,
   "source": [
    "try:\r\n",
    "    my_tuple3[2].append(2)\r\n",
    "except TypeError as e:\r\n",
    "    print(e)"
   ],
   "outputs": [],
   "metadata": {}
  },
  {
   "cell_type": "code",
   "execution_count": 7,
   "source": [
    "print(my_tuple3)\r\n",
    "print_tuple_info(my_tuple3)"
   ],
   "outputs": [
    {
     "output_type": "stream",
     "name": "stdout",
     "text": [
      "(10, 20, [1, 2])\n",
      "Tuple address: 0x36667\n",
      "Val: 0x4ece7\n",
      "Val: 0x4ee27\n",
      "Val: 0x3efb9\n",
      "\n",
      "\n"
     ]
    }
   ],
   "metadata": {}
  }
 ]
}