{
 "cells": [
  {
   "cell_type": "code",
   "execution_count": 1,
   "metadata": {},
   "outputs": [],
   "source": [
    "def memory_address(var):\n",
    "    return hex(id(var) % 0xFFFFF)\n",
    "\n",
    "def print_list_info(lst):\n",
    "    print(f\"List address: {memory_address(lst)}\")\n",
    "    if len(lst) == 0:\n",
    "        return\n",
    "    if not isinstance(lst[0], list):\n",
    "        return\n",
    "    for i in range(len(lst)):\n",
    "        print(f\"Lst[{i}]: {memory_address(lst[i])}\")\n",
    "        if isinstance(lst[i], list):\n",
    "            for j in range(len(lst[i])):\n",
    "                print(f\"Lst[{i},{j}]: {memory_address(lst[i][j])}\")\n",
    "    print(\"\\n\")"
   ]
  },
  {
   "cell_type": "markdown",
   "metadata": {},
   "source": [
    "## Lists"
   ]
  },
  {
   "cell_type": "code",
   "execution_count": 2,
   "metadata": {},
   "outputs": [
    {
     "name": "stdout",
     "output_type": "stream",
     "text": [
      "[1, 2, 3]\n",
      "List address: 0xca12e\n"
     ]
    }
   ],
   "source": [
    "my_list = [1, 2, 3]\n",
    "print(my_list)\n",
    "print_list_info(my_list)"
   ]
  },
  {
   "cell_type": "code",
   "execution_count": 3,
   "metadata": {},
   "outputs": [
    {
     "name": "stdout",
     "output_type": "stream",
     "text": [
      "[[1, 2], [3]]\n",
      "List address: 0xc6d6e\n",
      "Lst[0]: 0xc6eae\n",
      "Lst[0,0]: 0x84972\n",
      "Lst[0,1]: 0x84992\n",
      "Lst[1]: 0xc854c\n",
      "Lst[1,0]: 0x849b2\n",
      "\n",
      "\n"
     ]
    }
   ],
   "source": [
    "my_list2 = [[1, 2], [3]]\n",
    "print(my_list2)\n",
    "print_list_info(my_list2)"
   ]
  },
  {
   "cell_type": "code",
   "execution_count": 4,
   "metadata": {},
   "outputs": [
    {
     "name": "stdout",
     "output_type": "stream",
     "text": [
      "[[1, 2], [3, 6]]\n",
      "List address: 0xc6d6e\n",
      "Lst[0]: 0xc6eae\n",
      "Lst[0,0]: 0x84972\n",
      "Lst[0,1]: 0x84992\n",
      "Lst[1]: 0x49beb\n",
      "Lst[1,0]: 0x849b2\n",
      "Lst[1,1]: 0x84a12\n",
      "\n",
      "\n"
     ]
    }
   ],
   "source": [
    "my_list2[1] = [3, 6]\n",
    "print(my_list2)\n",
    "print_list_info(my_list2)"
   ]
  },
  {
   "cell_type": "markdown",
   "metadata": {},
   "source": [
    "### List Comp"
   ]
  },
  {
   "cell_type": "code",
   "execution_count": 5,
   "metadata": {},
   "outputs": [
    {
     "name": "stdout",
     "output_type": "stream",
     "text": [
      "[0, 1, 2, 3, 4]\n"
     ]
    }
   ],
   "source": [
    "list1 = []\n",
    "\n",
    "for i in range(5):\n",
    "    list1.append(i)\n",
    "\n",
    "print(list1)"
   ]
  },
  {
   "cell_type": "code",
   "execution_count": 6,
   "metadata": {},
   "outputs": [
    {
     "name": "stdout",
     "output_type": "stream",
     "text": [
      "[0, 1, 2, 3, 4]\n"
     ]
    }
   ],
   "source": [
    "list2 = [i for i in range(5)]\n",
    "\n",
    "print(list2)"
   ]
  },
  {
   "cell_type": "code",
   "execution_count": 10,
   "metadata": {},
   "outputs": [
    {
     "name": "stdout",
     "output_type": "stream",
     "text": [
      "[0, 1, 2]\n"
     ]
    }
   ],
   "source": [
    "my_list3 = [i for i in range(5) if (i < 3)]\n",
    "\n",
    "print(my_list3)"
   ]
  },
  {
   "cell_type": "code",
   "execution_count": 11,
   "metadata": {},
   "outputs": [
    {
     "name": "stdout",
     "output_type": "stream",
     "text": [
      "[-1, -1, -1, 3, 4]\n"
     ]
    }
   ],
   "source": [
    "my_list4 = [i if i > 2 else -1 for i in range(5)]\n",
    "\n",
    "print(my_list4)"
   ]
  }
 ],
 "metadata": {
  "file_extension": ".py",
  "interpreter": {
   "hash": "4eab73af86a999baa7bf0153340022c78a9cea3be6d1f049b3c9a17993d56d0b"
  },
  "kernelspec": {
   "display_name": "Python 3.8.10 64-bit",
   "name": "python3"
  },
  "language_info": {
   "codemirror_mode": {
    "name": "ipython",
    "version": 3
   },
   "file_extension": ".py",
   "mimetype": "text/x-python",
   "name": "python",
   "nbconvert_exporter": "python",
   "pygments_lexer": "ipython3",
   "version": "3.9.7"
  },
  "mimetype": "text/x-python",
  "name": "python",
  "npconvert_exporter": "python",
  "orig_nbformat": 2,
  "pygments_lexer": "ipython3",
  "version": 3
 },
 "nbformat": 4,
 "nbformat_minor": 2
}
