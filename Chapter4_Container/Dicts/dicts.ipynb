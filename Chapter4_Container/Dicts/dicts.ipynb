{
 "nbformat": 4,
 "nbformat_minor": 2,
 "metadata": {
  "language_info": {
   "name": "python",
   "version": "3.8.10",
   "mimetype": "text/x-python",
   "codemirror_mode": {
    "name": "ipython",
    "version": 3
   },
   "pygments_lexer": "ipython3",
   "nbconvert_exporter": "python",
   "file_extension": ".py"
  },
  "orig_nbformat": 2,
  "file_extension": ".py",
  "mimetype": "text/x-python",
  "name": "python",
  "npconvert_exporter": "python",
  "pygments_lexer": "ipython3",
  "version": 3,
  "kernelspec": {
   "name": "python3",
   "display_name": "Python 3.8.10 64-bit"
  },
  "interpreter": {
   "hash": "4eab73af86a999baa7bf0153340022c78a9cea3be6d1f049b3c9a17993d56d0b"
  }
 },
 "cells": [
  {
   "cell_type": "code",
   "execution_count": 1,
   "source": [
    "def memory_address(var):\r\n",
    "    return hex(id(var) % 0xFFFFF)\r\n",
    "\r\n",
    "def print_dict_info(dct):\r\n",
    "    print(f\"Dict address: {memory_address(dct)}\")\r\n",
    "    for key in dct:\r\n",
    "        print(f\"Dict[{key}]: {memory_address(dct[key])}\")\r\n",
    "    print(\"\\n\")"
   ],
   "outputs": [],
   "metadata": {}
  },
  {
   "cell_type": "markdown",
   "source": [
    "# Dicts"
   ],
   "metadata": {}
  },
  {
   "cell_type": "markdown",
   "source": [
    "<div style=\"font-size:1.5em;\">\r\n",
    "\r\n",
    "Types for the keys: bool, int, float, str, tuple, None (immutable types)\r\n",
    "\r\n",
    "Types for the values: any type\r\n",
    "\r\n",
    "</div>"
   ],
   "metadata": {}
  },
  {
   "cell_type": "markdown",
   "source": [
    "<div style=\"font-size:1.5em;\">\r\n",
    "\r\n",
    "For each item, the dictionary calculates a hash of the key based on its content.\r\n",
    "If the value changes, the hash wil change. \r\n",
    "For immutable objects that's not a problem - their content can't change - but mutable objects could.\r\n",
    "\r\n",
    "</div>"
   ],
   "metadata": {}
  },
  {
   "cell_type": "code",
   "execution_count": 2,
   "source": [
    "my_dict1 = {\r\n",
    "    True: 'test',\r\n",
    "    10: [1, 2, 3],\r\n",
    "    None: 10.5, \r\n",
    "    10.1: {'k': 'v'},\r\n",
    "    'jan': {'test'},\r\n",
    "    (10, 20): (5, 4)\r\n",
    "}\r\n",
    "print(my_dict1)\r\n",
    "print_dict_info(my_dict1)"
   ],
   "outputs": [
    {
     "output_type": "stream",
     "name": "stdout",
     "text": [
      "{True: 'test', 10: [1, 2, 3], None: 10.5, 10.1: {'k': 'v'}, 'jan': {'test'}, (10, 20): (5, 4)}\n",
      "Dict address: 0x643a1\n",
      "Dict[True]: 0xd8d92\n",
      "Dict[10]: 0x64ba1\n",
      "Dict[None]: 0xf856f\n",
      "Dict[10.1]: 0xae54e\n",
      "Dict[jan]: 0xfd01\n",
      "Dict[(10, 20)]: 0x85fcf\n",
      "\n",
      "\n"
     ]
    }
   ],
   "metadata": {}
  },
  {
   "cell_type": "code",
   "execution_count": 3,
   "source": [
    "my_dict2 = dict(\r\n",
    "    firstname='Jan',\r\n",
    "    lastname='Schaffranek'\r\n",
    ")\r\n",
    "print(my_dict2)\r\n",
    "print_dict_info(my_dict2)"
   ],
   "outputs": [
    {
     "output_type": "stream",
     "name": "stdout",
     "text": [
      "{'firstname': 'Jan', 'lastname': 'Schaffranek'}\n",
      "Dict address: 0x10560\n",
      "Dict[firstname]: 0x21138\n",
      "Dict[lastname]: 0xf8d4f\n",
      "\n",
      "\n"
     ]
    }
   ],
   "metadata": {}
  }
 ]
}