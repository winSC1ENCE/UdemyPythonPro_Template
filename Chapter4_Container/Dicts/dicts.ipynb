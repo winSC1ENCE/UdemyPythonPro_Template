{
 "cells": [
  {
   "cell_type": "code",
   "execution_count": 1,
   "metadata": {},
   "outputs": [],
   "source": [
    "def memory_address(var):\n",
    "    return hex(id(var) % 0xFFFFF)\n",
    "\n",
    "def print_dict_info(dct):\n",
    "    print(f\"Dict address: {memory_address(dct)}\")\n",
    "    for key in dct:\n",
    "        print(f\"Dict[{key}]: {memory_address(dct[key])}\")\n",
    "    print(\"\\n\")"
   ]
  },
  {
   "cell_type": "markdown",
   "metadata": {},
   "source": [
    "# Dicts"
   ]
  },
  {
   "cell_type": "markdown",
   "metadata": {},
   "source": [
    "Types for the keys: bool, int, float, str, tuple, None (immutable types)  \n",
    "Types for the values: any type  "
   ]
  },
  {
   "cell_type": "markdown",
   "metadata": {},
   "source": [
    "For each item, the dictionary calculates a hash of the key based on its content.  \n",
    "If the value changes, the hash wil change.   \n",
    "For immutable objects that's not a problem - their content can't change - but mutable objects could.  "
   ]
  },
  {
   "cell_type": "code",
   "execution_count": 2,
   "metadata": {},
   "outputs": [
    {
     "name": "stdout",
     "output_type": "stream",
     "text": [
      "{True: 'test', 10: [1, 2, 3], None: 10.5, 10.1: {'k': 'v'}, 'jan': {'test'}, (10, 20): (5, 4)}\n",
      "Dict address: 0x643a1\n",
      "Dict[True]: 0xd8d92\n",
      "Dict[10]: 0x64ba1\n",
      "Dict[None]: 0xf856f\n",
      "Dict[10.1]: 0xae54e\n",
      "Dict[jan]: 0xfd01\n",
      "Dict[(10, 20)]: 0x85fcf\n",
      "\n",
      "\n"
     ]
    }
   ],
   "source": [
    "my_dict1 = {\n",
    "    True: 'test',\n",
    "    10: [1, 2, 3],\n",
    "    None: 10.5, \n",
    "    10.1: {'k': 'v'},\n",
    "    'jan': {'test'},\n",
    "    (10, 20): (5, 4)\n",
    "}\n",
    "print(my_dict1)\n",
    "print_dict_info(my_dict1)"
   ]
  },
  {
   "cell_type": "code",
   "execution_count": 3,
   "metadata": {},
   "outputs": [
    {
     "name": "stdout",
     "output_type": "stream",
     "text": [
      "{'firstname': 'Jan', 'lastname': 'Schaffranek'}\n",
      "Dict address: 0x10560\n",
      "Dict[firstname]: 0x21138\n",
      "Dict[lastname]: 0xf8d4f\n",
      "\n",
      "\n"
     ]
    }
   ],
   "source": [
    "my_dict2 = dict(\n",
    "    firstname='Jan',\n",
    "    lastname='Schaffranek'\n",
    ")\n",
    "print(my_dict2)\n",
    "print_dict_info(my_dict2)"
   ]
  }
 ],
 "metadata": {
  "file_extension": ".py",
  "interpreter": {
   "hash": "4eab73af86a999baa7bf0153340022c78a9cea3be6d1f049b3c9a17993d56d0b"
  },
  "kernelspec": {
   "display_name": "Python 3.8.10 64-bit",
   "name": "python3"
  },
  "language_info": {
   "codemirror_mode": {
    "name": "ipython",
    "version": 3
   },
   "file_extension": ".py",
   "mimetype": "text/x-python",
   "name": "python",
   "nbconvert_exporter": "python",
   "pygments_lexer": "ipython3",
   "version": "3.8.10"
  },
  "mimetype": "text/x-python",
  "name": "python",
  "npconvert_exporter": "python",
  "orig_nbformat": 2,
  "pygments_lexer": "ipython3",
  "version": 3
 },
 "nbformat": 4,
 "nbformat_minor": 2
}
