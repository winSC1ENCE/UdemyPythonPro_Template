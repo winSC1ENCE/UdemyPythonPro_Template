{
 "cells": [
  {
   "cell_type": "code",
   "execution_count": 453,
   "source": [
    "import copy"
   ],
   "outputs": [],
   "metadata": {}
  },
  {
   "cell_type": "code",
   "execution_count": 454,
   "source": [
    "def print_memory_address(var):\r\n",
    "    print(hex(id(var) % 0xFFFF))"
   ],
   "outputs": [],
   "metadata": {}
  },
  {
   "cell_type": "markdown",
   "source": [
    "# In-Place Functions"
   ],
   "metadata": {}
  },
  {
   "cell_type": "markdown",
   "source": [
    "# Immutable Types"
   ],
   "metadata": {}
  },
  {
   "cell_type": "code",
   "execution_count": 455,
   "source": [
    "my_number = 10\r\n",
    "increment = 2\r\n",
    "\r\n",
    "print_memory_address(my_number)\r\n",
    "my_number = my_number + increment\r\n",
    "print_memory_address(my_number)\r\n",
    "\r\n",
    "print(my_number)"
   ],
   "outputs": [
    {
     "output_type": "stream",
     "name": "stdout",
     "text": [
      "0xe218\n",
      "0xe258\n",
      "12\n"
     ]
    }
   ],
   "metadata": {}
  },
  {
   "cell_type": "code",
   "execution_count": 456,
   "source": [
    "my_number2 = 10\r\n",
    "increment2 = 2\r\n",
    "\r\n",
    "print_memory_address(my_number2)\r\n",
    "my_number2 += increment2\r\n",
    "print_memory_address(my_number2)\r\n",
    "\r\n",
    "print(my_number2)"
   ],
   "outputs": [
    {
     "output_type": "stream",
     "name": "stdout",
     "text": [
      "0xe218\n",
      "0xe258\n",
      "12\n"
     ]
    }
   ],
   "metadata": {}
  },
  {
   "cell_type": "markdown",
   "source": [
    "# Mutable Types (but not In-Place)"
   ],
   "metadata": {}
  },
  {
   "cell_type": "code",
   "execution_count": 457,
   "source": [
    "def inc_list(lst, inc_value):\r\n",
    "    for value in lst:\r\n",
    "        value = value + inc_value\r\n",
    "    return lst"
   ],
   "outputs": [],
   "metadata": {}
  },
  {
   "cell_type": "code",
   "execution_count": 458,
   "source": [
    "my_list = [1, 2, 3]\r\n",
    "increment = 2\r\n",
    "\r\n",
    "print_memory_address(my_list)\r\n",
    "my_list = inc_list(my_list, increment)\r\n",
    "print_memory_address(my_list)\r\n",
    "\r\n",
    "print(my_list)"
   ],
   "outputs": [
    {
     "output_type": "stream",
     "name": "stdout",
     "text": [
      "0xf3d\n",
      "0xf3d\n",
      "[1, 2, 3]\n"
     ]
    }
   ],
   "metadata": {}
  },
  {
   "cell_type": "code",
   "execution_count": 459,
   "source": [
    "def inc_list(lst, inc_value):\r\n",
    "    for idx in range(len(lst)):\r\n",
    "        lst[idx] = lst[idx] + inc_value"
   ],
   "outputs": [],
   "metadata": {}
  },
  {
   "cell_type": "code",
   "execution_count": 460,
   "source": [
    "my_list2 = [1, 2, 3]\r\n",
    "increment2 = 2\r\n",
    "\r\n",
    "print_memory_address(my_list2)\r\n",
    "print_memory_address(my_list2[0])\r\n",
    "inc_list(my_list2, increment2)\r\n",
    "print_memory_address(my_list2)\r\n",
    "print_memory_address(my_list2[0])\r\n",
    "\r\n",
    "print(my_list2)"
   ],
   "outputs": [
    {
     "output_type": "stream",
     "name": "stdout",
     "text": [
      "0x9f3c\n",
      "0xe0f8\n",
      "0x9f3c\n",
      "0xe138\n",
      "[3, 4, 5]\n"
     ]
    }
   ],
   "metadata": {}
  },
  {
   "cell_type": "code",
   "execution_count": 461,
   "source": [
    "def concat_lists(l1, l2):\r\n",
    "    return l1 + l2"
   ],
   "outputs": [],
   "metadata": {}
  },
  {
   "cell_type": "code",
   "execution_count": 462,
   "source": [
    "l1 = [1, 2]\r\n",
    "l2 = [3, 4]\r\n",
    "\r\n",
    "print_memory_address(l1)\r\n",
    "print_memory_address(l2)\r\n",
    "print(l1)\r\n",
    "l1 = concat_lists(l1, l2)\r\n",
    "print(l1)\r\n",
    "print_memory_address(l1)\r\n",
    "print_memory_address(l2)"
   ],
   "outputs": [
    {
     "output_type": "stream",
     "name": "stdout",
     "text": [
      "0x80fb\n",
      "0x5dfc\n",
      "[1, 2]\n",
      "[1, 2, 3, 4]\n",
      "0x11fd\n",
      "0x5dfc\n"
     ]
    }
   ],
   "metadata": {}
  },
  {
   "cell_type": "markdown",
   "source": [
    "# In-Place on Mutable Types"
   ],
   "metadata": {}
  },
  {
   "cell_type": "code",
   "execution_count": 463,
   "source": [
    "def concat_lists_inplace(l1, l2):\r\n",
    "    l1 += l2"
   ],
   "outputs": [],
   "metadata": {}
  },
  {
   "cell_type": "code",
   "execution_count": 464,
   "source": [
    "l3 = [1, 2]\r\n",
    "l4 = [3, 4]\r\n",
    "\r\n",
    "print_memory_address(l3)\r\n",
    "print_memory_address(l4)\r\n",
    "print(l3)\r\n",
    "concat_lists_inplace(l3, l4)\r\n",
    "print(l3)\r\n",
    "print_memory_address(l3)\r\n",
    "print_memory_address(l4)"
   ],
   "outputs": [
    {
     "output_type": "stream",
     "name": "stdout",
     "text": [
      "0xe2bc\n",
      "0xe57c\n",
      "[1, 2]\n",
      "[1, 2, 3, 4]\n",
      "0xe2bc\n",
      "0xe57c\n"
     ]
    }
   ],
   "metadata": {}
  },
  {
   "cell_type": "markdown",
   "source": [
    "# Shallow and Deep Copy"
   ],
   "metadata": {}
  },
  {
   "cell_type": "markdown",
   "source": [
    "# Shallow Copy"
   ],
   "metadata": {}
  },
  {
   "cell_type": "code",
   "execution_count": 465,
   "source": [
    "list1 = [[1, 2], [3, 4]]\r\n",
    "\r\n",
    "print_memory_address(list1)\r\n",
    "print_memory_address(list1[0])\r\n",
    "print_memory_address(list1[0][0])\r\n",
    "print(list1)"
   ],
   "outputs": [
    {
     "output_type": "stream",
     "name": "stdout",
     "text": [
      "0x2dfc\n",
      "0x383c\n",
      "[[1, 2], [3, 4]]\n"
     ]
    }
   ],
   "metadata": {}
  },
  {
   "cell_type": "code",
   "execution_count": 466,
   "source": [
    "list1[0][0] = 10\r\n",
    "\r\n",
    "print_memory_address(list1)\r\n",
    "print_memory_address(list1[0])\r\n",
    "print_memory_address(list1[0][0])\r\n",
    "print(list1)"
   ],
   "outputs": [
    {
     "output_type": "stream",
     "name": "stdout",
     "text": [
      "0x2dfc\n",
      "0x383c\n",
      "[[10, 2], [3, 4]]\n"
     ]
    }
   ],
   "metadata": {}
  },
  {
   "cell_type": "code",
   "execution_count": 467,
   "source": [
    "list1[0] = [-1, -2]\r\n",
    "\r\n",
    "print_memory_address(list1)\r\n",
    "print_memory_address(list1[0])\r\n",
    "print(list1)"
   ],
   "outputs": [
    {
     "output_type": "stream",
     "name": "stdout",
     "text": [
      "0x2dfc\n",
      "0x153d\n",
      "[[-1, -2], [3, 4]]\n"
     ]
    }
   ],
   "metadata": {}
  },
  {
   "cell_type": "code",
   "execution_count": 468,
   "source": [
    "list2 = copy.copy(list1)\r\n",
    "\r\n",
    "print_memory_address(list2)\r\n",
    "print_memory_address(list2[0])\r\n",
    "print(list2)"
   ],
   "outputs": [
    {
     "output_type": "stream",
     "name": "stdout",
     "text": [
      "0xe1fc\n",
      "0x153d\n",
      "[[-1, -2], [3, 4]]\n"
     ]
    }
   ],
   "metadata": {}
  },
  {
   "cell_type": "code",
   "execution_count": 469,
   "source": [
    "list2[0][0] = 10\r\n",
    "\r\n",
    "print_memory_address(list2)\r\n",
    "print_memory_address(list2[0])\r\n",
    "print(list2)"
   ],
   "outputs": [
    {
     "output_type": "stream",
     "name": "stdout",
     "text": [
      "0xe1fc\n",
      "0x153d\n",
      "[[10, -2], [3, 4]]\n"
     ]
    }
   ],
   "metadata": {}
  },
  {
   "cell_type": "code",
   "execution_count": 470,
   "source": [
    "print_memory_address(list1)\r\n",
    "print_memory_address(list1[0])\r\n",
    "print(list1)"
   ],
   "outputs": [
    {
     "output_type": "stream",
     "name": "stdout",
     "text": [
      "0x2dfc\n",
      "0x153d\n",
      "[[10, -2], [3, 4]]\n"
     ]
    }
   ],
   "metadata": {}
  },
  {
   "cell_type": "markdown",
   "source": [
    "# Deep Copy"
   ],
   "metadata": {}
  },
  {
   "cell_type": "code",
   "execution_count": 471,
   "source": [
    "list3 = copy.deepcopy(list1)\r\n",
    "\r\n",
    "print_memory_address(list3)\r\n",
    "print_memory_address(list3[0])\r\n",
    "print(list3)"
   ],
   "outputs": [
    {
     "output_type": "stream",
     "name": "stdout",
     "text": [
      "0x603c\n",
      "0xbe7d\n",
      "[[10, -2], [3, 4]]\n"
     ]
    }
   ],
   "metadata": {}
  },
  {
   "cell_type": "code",
   "execution_count": 472,
   "source": [
    "list3[0][0] = -10\r\n",
    "\r\n",
    "print_memory_address(list3)\r\n",
    "print_memory_address(list3[0])\r\n",
    "print(list3)"
   ],
   "outputs": [
    {
     "output_type": "stream",
     "name": "stdout",
     "text": [
      "0x603c\n",
      "0xbe7d\n",
      "[[-10, -2], [3, 4]]\n"
     ]
    }
   ],
   "metadata": {}
  },
  {
   "cell_type": "code",
   "execution_count": 473,
   "source": [
    "print_memory_address(list1)\r\n",
    "print_memory_address(list1[0])\r\n",
    "print(list1)"
   ],
   "outputs": [
    {
     "output_type": "stream",
     "name": "stdout",
     "text": [
      "0x2dfc\n",
      "0x153d\n",
      "[[10, -2], [3, 4]]\n"
     ]
    }
   ],
   "metadata": {}
  }
 ],
 "metadata": {
  "language_info": {
   "codemirror_mode": {
    "name": "ipython",
    "version": 3
   },
   "file_extension": ".py",
   "mimetype": "text/x-python",
   "name": "python",
   "nbconvert_exporter": "python",
   "pygments_lexer": "ipython3",
   "version": "3.8.10"
  },
  "orig_nbformat": 2,
  "kernelspec": {
   "name": "python3",
   "display_name": "Python 3.8.10 64-bit ('tensorflow': conda)"
  },
  "interpreter": {
   "hash": "4eab73af86a999baa7bf0153340022c78a9cea3be6d1f049b3c9a17993d56d0b"
  }
 },
 "nbformat": 4,
 "nbformat_minor": 2
}